{
 "cells": [
  {
   "cell_type": "markdown",
   "metadata": {
    "application/vnd.databricks.v1+cell": {
     "cellMetadata": {
      "byteLimit": 2048000,
      "rowLimit": 10000
     },
     "inputWidgets": {},
     "nuid": "fc749083-2211-485c-943f-640e198b2c70",
     "showTitle": false,
     "title": ""
    }
   },
   "source": [
    "## DSCC202-402 Data Science at Scale Final Project\n",
    "### Tracking Tweet sentiment at scale using a pretrained transformer (classifier)\n",
    "<p>Consider the following illustration of the end to end system that you will be building.  Each student should do their own work.  The project will demonstrate your understanding of Spark Streaming, the medalion data architecture using Delta Lake, Spark Inference at Scale using an MLflow packaged model as well as Exploritory Data Analysis and System Tracking and Monitoring.</p>\n",
    "<br><br>\n",
    "<img src=\"https://data-science-at-scale.s3.amazonaws.com/images/pipeline.drawio.png\">\n",
    "\n",
    "<p>\n",
    "You will be pulling an updated copy of the course GitHub repositiory: <a href=\"https://github.com/lpalum/dscc202-402-spring2024\">The Repo</a>.  If you are unclear on how to pull an updated copy using the GitHub command line, the following <a href=\"https://techwritingmatters.com/how-to-update-your-forked-repository-on-github\">document</a> is helpful.  Be sure to add the professors and TAs as collaborators on your project. \n",
    "\n",
    "- lpalum@gmail.com GitHub ID: lpalum\n",
    "- ajay.anand@rochester.edu GitHub ID: ajayan12\n",
    "- divyamunot1999@gmail.com GitHub ID: divyamunot\n",
    "- ylong6@u.Rochester.edu GitHub ID: NinaLong2077\n",
    "\n",
    "Once you have updates your fork of the repository you should see the following template project that is resident in the final_project directory.\n",
    "</p>\n",
    "\n",
    "<img src=\"https://data-science-at-scale.s3.amazonaws.com/images/notebooks.drawio.png\">\n",
    "\n",
    "<p>\n",
    "You can then pull your project into the Databrick Workspace using the <a href=\"https://www.databricks.training/step-by-step/importing-courseware-from-github/index.html\">Repos</a> feature.\n",
    "Each student is expected to submit the URL of their project on GitHub with their code checked in on the main/master branch.  This illustration highlights the branching scheme that you may use to work on your code in steps and then merge your submission into your master branch before submitting.\n",
    "</p>\n",
    "<img src=\"https://data-science-at-scale.s3.amazonaws.com/images/github.drawio.png\">\n",
    "<p>\n",
    "Work your way through this notebook which will give you the steps required to submit a complete and compliant project.  The following illustration and associated data dictionary specifies the transformations and data that you are to generate for each step in the medallion pipeline.\n",
    "</p>\n",
    "<br><br>\n",
    "<img src=\"https://data-science-at-scale.s3.amazonaws.com/images/dataframes.drawio.png\">\n",
    "\n",
    "#### Bronze Data - raw ingest\n",
    "- date - string in the source json\n",
    "- user - string in the source json\n",
    "- text - tweet string in the source json\n",
    "- sentiment - the given sentiment of the text as determined by an unknown model that is provided in the source json\n",
    "- source_file - the path of the source json file the this row of data was read from\n",
    "- processing_time - a timestamp of when you read this row from the source json\n",
    "\n",
    "#### Silver Data - Bronze Preprocessing\n",
    "- timestamp - convert date string in the bronze data to a timestamp\n",
    "- mention - every @username mentioned in the text string in the bronze data gets a row in this silver data table.\n",
    "- cleaned_text - the bronze text data with the mentions (@username) removed.\n",
    "- sentiment - the given sentiment that was associated with the text in the bronze table.\n",
    "\n",
    "#### Gold Data - Silver Table Inference\n",
    "- timestamp - the timestamp from the silver data table rows\n",
    "- mention - the mention from the silver data table rows\n",
    "- cleaned_text - the cleaned_text from the silver data table rows\n",
    "- sentiment - the given sentiment from the silver data table rows\n",
    "- predicted_score - score out of 100 from the Hugging Face Sentiment Transformer\n",
    "- predicted_sentiment - string representation of the sentiment\n",
    "- sentiment_id - 0 for negative and 1 for postive associated with the given sentiment\n",
    "- predicted_sentiment_id - 0 for negative and 1 for positive assocaited with the Hugging Face Sentiment Transformer\n",
    "\n",
    "#### Application Data - Gold Table Aggregation\n",
    "- min_timestamp - the oldest timestamp on a given mention (@username)\n",
    "- max_timestamp - the newest timestamp on a given mention (@username)\n",
    "- mention - the user (@username) that this row pertains to.\n",
    "- negative - total negative tweets directed at this mention (@username)\n",
    "- neutral - total neutral tweets directed at this mention (@username)\n",
    "- positive - total positive tweets directed at this mention (@username)\n",
    "\n",
    "When you are designing your approach, one of the main decisions that you will need to make is how you are going to orchestrate the streaming data processing in your pipeline.  There are several valid approaches.  First, you may choose to start the bronze_stream and let it complete (read and append all of the source data) before preceeding and starting up the silver_stream.  This approach has latency associated with it but it will allow your code to proceed in a linear fashion and process all the data by the end of your notebook execution.  Another potential approach is to start all the streams and have a \"watch\" method to determine when the pipeline has processed sufficient or all of the source data before stopping and displaying results.  Both of these approaches are valid and have different implications on how you will trigger your steams and how you will gate the execution of your pipeline.  Think through how you want to proceed and ask questions if you need guidance. The following references may be helpful:\n",
    "- [Spark Structured Streaming Programming Guide](https://spark.apache.org/docs/latest/structured-streaming-programming-guide.html)\n",
    "- [Databricks Autoloader - Cloudfiles](https://docs.databricks.com/en/ingestion/auto-loader/index.html)\n",
    "\n",
    "### Be sure that your project runs end to end when *Run all* is executued on this notebook! (15 Points out of 60)"
   ]
  },
  {
   "cell_type": "code",
   "execution_count": 0,
   "metadata": {
    "application/vnd.databricks.v1+cell": {
     "cellMetadata": {
      "byteLimit": 2048000,
      "rowLimit": 10000
     },
     "inputWidgets": {},
     "nuid": "068f25d0-1387-4342-89cf-ce82a8d614ce",
     "showTitle": true,
     "title": "Pull in the Includes & Utiltites"
    }
   },
   "outputs": [
    {
     "output_type": "stream",
     "name": "stdout",
     "output_type": "stream",
     "text": [
      "\u001B[31mERROR: pip's dependency resolver does not currently take into account all the packages that are installed. This behaviour is the source of the following dependency conflicts.\r\npetastorm 0.11.4 requires pyspark>=2.1.0, which is not installed.\u001B[0m\r\n"
     ]
    },
    {
     "output_type": "display_data",
     "data": {
      "application/vnd.databricks.v1+bamboolib_hint": "{\"pd.DataFrames\": [], \"version\": \"0.0.1\"}",
      "text/plain": []
     },
     "metadata": {},
     "output_type": "display_data"
    },
    {
     "output_type": "display_data",
     "data": {
      "text/html": [
       "\n",
       "<H2>VERY IMPORTANT TO UNDERSTAND THE USE OF THESE VARIABLES!<br> Please ask if you are confused about their use.</H2>\n",
       "<table border=1>\n",
       "<tr><td><b>Variable Name</b></td><td><b>Value</b></td><td><b>Description</b></td></tr>\n",
       "<tr><td>TWEET_BUCKET_NAME</td><td>voc-75-databricks-data</td><td>AWS S3 Bucket Name where the tweets are coming into your system.</td></tr>\n",
       "<tr><td>TWEET_BUCKET_URL</td><td>https://voc-75-databricks-data.s3.amazonaws.com/</td><td>AWS S3 Bucket URL where the tweets are coming into your system.</td></tr>\n",
       "<tr><td>TWEET_SOURCE_PATH</td><td>s3a://voc-75-databricks-data/voc_volume/</td><td>AWS S3 Path where the tweets are coming into your system.</td></tr>\n",
       "<tr><td>USER_DIR</td><td>/tmp/labuser104917-3060316/</td><td>Path to the local storage (dbfs) for your project.</td></tr>\n",
       "<tr><td>BRONZE_CHECKPOINT</td><td>/tmp/labuser104917-3060316/bronze.checkpoint</td><td>Store your Bronze Checkpoint data here.</td></tr>\n",
       "<tr><td>BRONZE_DELTA</td><td>/tmp/labuser104917-3060316/bronze.delta</td><td>Store your Bronze Delta Table here.</td></tr>\n",
       "<tr><td>SILVER_CHECKPOINT</td><td>/tmp/labuser104917-3060316/silver.checkpoint</td><td>Store your Silver Checkpoint data here.</td></tr>\n",
       "<tr><td>SILVER_DELTA</td><td>/tmp/labuser104917-3060316/silver.delta</td><td>Store your Silver Delta Table here.</td></tr>\n",
       "<tr><td>GOLD_CHECKPOINT</td><td>/tmp/labuser104917-3060316/gold.checkpoint</td><td>Store your Gold Checkpoint data here.</td></tr>\n",
       "<tr><td>GOLD_DELTA</td><td>/tmp/labuser104917-3060316/gold.delta</td><td>Store your Gold Delta Table here.</td></tr>\n",
       "<tr><td>MODEL_NAME</td><td>HF_TWEET_SENTIMENT</td><td>Load this production model</td></tr>\n",
       "<tr><td>HF_MODEL_NAME</td><td>finiteautomata/bertweet-base-sentiment-analysis</td><td>The Hugging Face Model for Tweet sentiment classification: https://huggingface.co/finiteautomata/bertweet-base-sentiment-analysis </td></tr>\n",
       "</table>\n"
      ]
     },
     "metadata": {
      "application/vnd.databricks.v1+output": {
       "addedWidgets": {},
       "arguments": {},
       "data": "\n<H2>VERY IMPORTANT TO UNDERSTAND THE USE OF THESE VARIABLES!<br> Please ask if you are confused about their use.</H2>\n<table border=1>\n<tr><td><b>Variable Name</b></td><td><b>Value</b></td><td><b>Description</b></td></tr>\n<tr><td>TWEET_BUCKET_NAME</td><td>voc-75-databricks-data</td><td>AWS S3 Bucket Name where the tweets are coming into your system.</td></tr>\n<tr><td>TWEET_BUCKET_URL</td><td>https://voc-75-databricks-data.s3.amazonaws.com/</td><td>AWS S3 Bucket URL where the tweets are coming into your system.</td></tr>\n<tr><td>TWEET_SOURCE_PATH</td><td>s3a://voc-75-databricks-data/voc_volume/</td><td>AWS S3 Path where the tweets are coming into your system.</td></tr>\n<tr><td>USER_DIR</td><td>/tmp/labuser104917-3060316/</td><td>Path to the local storage (dbfs) for your project.</td></tr>\n<tr><td>BRONZE_CHECKPOINT</td><td>/tmp/labuser104917-3060316/bronze.checkpoint</td><td>Store your Bronze Checkpoint data here.</td></tr>\n<tr><td>BRONZE_DELTA</td><td>/tmp/labuser104917-3060316/bronze.delta</td><td>Store your Bronze Delta Table here.</td></tr>\n<tr><td>SILVER_CHECKPOINT</td><td>/tmp/labuser104917-3060316/silver.checkpoint</td><td>Store your Silver Checkpoint data here.</td></tr>\n<tr><td>SILVER_DELTA</td><td>/tmp/labuser104917-3060316/silver.delta</td><td>Store your Silver Delta Table here.</td></tr>\n<tr><td>GOLD_CHECKPOINT</td><td>/tmp/labuser104917-3060316/gold.checkpoint</td><td>Store your Gold Checkpoint data here.</td></tr>\n<tr><td>GOLD_DELTA</td><td>/tmp/labuser104917-3060316/gold.delta</td><td>Store your Gold Delta Table here.</td></tr>\n<tr><td>MODEL_NAME</td><td>HF_TWEET_SENTIMENT</td><td>Load this production model</td></tr>\n<tr><td>HF_MODEL_NAME</td><td>finiteautomata/bertweet-base-sentiment-analysis</td><td>The Hugging Face Model for Tweet sentiment classification: https://huggingface.co/finiteautomata/bertweet-base-sentiment-analysis </td></tr>\n</table>\n",
       "datasetInfos": [],
       "metadata": {},
       "removedWidgets": [],
       "textData": null,
       "type": "htmlSandbox"
      }
     },
     "output_type": "display_data"
    },
    {
     "output_type": "stream",
     "name": "stdout",
     "output_type": "stream",
     "text": [
      "the includes are included\n"
     ]
    }
   ],
   "source": [
    "%run ./includes/includes"
   ]
  },
  {
   "cell_type": "code",
   "execution_count": 0,
   "metadata": {
    "application/vnd.databricks.v1+cell": {
     "cellMetadata": {
      "byteLimit": 2048000,
      "rowLimit": 10000
     },
     "inputWidgets": {},
     "nuid": "6512bf1b-50e0-4a4b-84a9-e280a6260b56",
     "showTitle": true,
     "title": "Notebook Control Widgets (maybe helpful)"
    }
   },
   "outputs": [
    {
     "output_type": "stream",
     "name": "stdout",
     "output_type": "stream",
     "text": [
      "Cleared all previous data.\nStopped all active streams.\n"
     ]
    }
   ],
   "source": [
    "\"\"\"\n",
    "Adding a widget to the notebook to control the clearing of a previous run.\n",
    "or stopping the active streams using routines defined in the utilities notebook\n",
    "\"\"\"\n",
    "dbutils.widgets.removeAll()\n",
    "\n",
    "dbutils.widgets.dropdown(\"clear_previous_run\", \"No\", [\"No\",\"Yes\"])\n",
    "if (getArgument(\"clear_previous_run\") == \"Yes\"):\n",
    "    clear_previous_run()\n",
    "    print(\"Cleared all previous data.\")\n",
    "\n",
    "dbutils.widgets.dropdown(\"stop_streams\", \"No\", [\"No\",\"Yes\"])\n",
    "if (getArgument(\"stop_streams\") == \"Yes\"):\n",
    "    stop_all_streams()\n",
    "    print(\"Stopped all active streams.\")\n",
    "\n",
    "from delta import *\n",
    "dbutils.widgets.dropdown(\"optimize_tables\", \"No\", [\"No\",\"Yes\"])\n",
    "if (getArgument(\"optimize_tables\") == \"Yes\"):\n",
    "    # Suck up those small files that we have been appending.\n",
    "    DeltaTable.forPath(spark, BRONZE_DELTA).optimize().executeCompaction()\n",
    "    # Suck up those small files that we have been appending.\n",
    "    DeltaTable.forPath(spark, SILVER_DELTA).optimize().executeCompaction()\n",
    "    # Suck up those small files that we have been appending.\n",
    "    DeltaTable.forPath(spark, GOLD_DELTA).optimize().executeCompaction()\n",
    "    print(\"Optimized all of the Delta Tables\")\n",
    "\n",
    "    "
   ]
  },
  {
   "cell_type": "markdown",
   "metadata": {
    "application/vnd.databricks.v1+cell": {
     "cellMetadata": {
      "byteLimit": 2048000,
      "rowLimit": 10000
     },
     "inputWidgets": {},
     "nuid": "e8ce7c13-7f8f-4e11-b50c-fdaebbcf3f99",
     "showTitle": false,
     "title": ""
    }
   },
   "source": [
    "## 1.0 Import your libraries here...\n",
    "- Are your shuffle partitions consistent with your cluster and your workload?\n",
    "- Do you have the necessary libraries to perform the required operations in the pipeline/application?"
   ]
  },
  {
   "cell_type": "code",
   "execution_count": 0,
   "metadata": {
    "application/vnd.databricks.v1+cell": {
     "cellMetadata": {
      "byteLimit": 2048000,
      "rowLimit": 10000
     },
     "inputWidgets": {},
     "nuid": "67bafbb7-d34e-4e86-b159-b2e062faa1d0",
     "showTitle": false,
     "title": ""
    }
   },
   "outputs": [],
   "source": [
    "from pyspark.sql.functions import *\n",
    "from pyspark.sql.types import *\n",
    "import matplotlib.pyplot as plt\n",
    "import re\n",
    "from mlflow.tracking import MlflowClient\n",
    "import mlflow.pyfunc\n",
    "import mlflow\n",
    "from sklearn.metrics import confusion_matrix\n",
    "import numpy as np\n",
    "import seaborn as sns\n",
    "import ipywidgets as widgets\n",
    "from transformers import pipeline"
   ]
  },
  {
   "cell_type": "code",
   "execution_count": 0,
   "metadata": {
    "application/vnd.databricks.v1+cell": {
     "cellMetadata": {
      "byteLimit": 2048000,
      "rowLimit": 10000
     },
     "inputWidgets": {},
     "nuid": "fccd5019-118d-44a3-ba61-1cd2c5dbf847",
     "showTitle": false,
     "title": ""
    }
   },
   "outputs": [
    {
     "output_type": "stream",
     "name": "stdout",
     "output_type": "stream",
     "text": [
      "200\n4\n"
     ]
    }
   ],
   "source": [
    "print(spark.conf.get(\"spark.sql.shuffle.partitions\"))\n",
    "print(sc.defaultParallelism)\n",
    "spark.conf.set(\"spark.sql.shuffle.partitions\", sc.defaultParallelism)"
   ]
  },
  {
   "cell_type": "markdown",
   "metadata": {
    "application/vnd.databricks.v1+cell": {
     "cellMetadata": {
      "byteLimit": 2048000,
      "rowLimit": 10000
     },
     "inputWidgets": {},
     "nuid": "2b7624b4-0aa5-46b7-9767-52f462b2c574",
     "showTitle": false,
     "title": ""
    }
   },
   "source": [
    "## 2.0 Use the utility functions to ...\n",
    "- Read the source file directory listing\n",
    "- Count the source files (how many are there?)\n",
    "- print the contents of one of the files"
   ]
  },
  {
   "cell_type": "code",
   "execution_count": 0,
   "metadata": {
    "application/vnd.databricks.v1+cell": {
     "cellMetadata": {
      "byteLimit": 2048000,
      "rowLimit": 10000
     },
     "inputWidgets": {},
     "nuid": "a59749d5-e45d-460f-9be1-33652cda2ea5",
     "showTitle": false,
     "title": ""
    }
   },
   "outputs": [
    {
     "output_type": "stream",
     "name": "stdout",
     "output_type": "stream",
     "text": [
      "Number of source files: 200001\nOut[9]: b'{\"date\": \"Mon Apr 06 22:19:45 PDT 2009\", \"user\": \"_TheSpecialOne_\", \"text\": \"@switchfoot http://twitpic.com/2y1zl - Awww, that\\'s a bummer.  You shoulda got David Carr of Third Day to do it. ;D\", \"sentiment\": \"negative\"}'"
     ]
    }
   ],
   "source": [
    "source_listing_df = get_source_listing_df()\n",
    "\n",
    "print(\"Number of source files:\", len(source_listing_df))\n",
    "\n",
    "file_path = source_listing_df.iloc[0, 0]\n",
    "\n",
    "show_s3_file_contents(file_path)"
   ]
  },
  {
   "cell_type": "markdown",
   "metadata": {
    "application/vnd.databricks.v1+cell": {
     "cellMetadata": {
      "byteLimit": 2048000,
      "rowLimit": 10000
     },
     "inputWidgets": {},
     "nuid": "1676aed7-527f-4ea7-9d3b-52544e8c1e37",
     "showTitle": false,
     "title": ""
    }
   },
   "source": [
    "## 3.0 Transform the Raw Data to Bronze Data using a stream\n",
    "- define the schema for the raw data\n",
    "- setup a read stream using cloudfiles and the source data format\n",
    "- setup a write stream using cloudfiles to append to the bronze delta table\n",
    "- enforce schema\n",
    "- allow a new schema to be merged into the bronze delta table\n",
    "- Use the defined BRONZE_CHECKPOINT and BRONZE_DELTA paths defines in the includes\n",
    "- name your raw to bronze stream as bronze_stream\n",
    "- transform the raw data to the bronze data using the data definition at the top of the notebook"
   ]
  },
  {
   "cell_type": "code",
   "execution_count": 0,
   "metadata": {
    "application/vnd.databricks.v1+cell": {
     "cellMetadata": {
      "byteLimit": 2048000,
      "rowLimit": 10000
     },
     "inputWidgets": {},
     "nuid": "c4e37574-9885-4908-bf97-609d140a8818",
     "showTitle": false,
     "title": ""
    }
   },
   "outputs": [],
   "source": [
    "schema = StructType([\n",
    "    StructField(\"date\", StringType(), True),\n",
    "    StructField(\"user\", StringType(), True),\n",
    "    StructField(\"text\", StringType(), True),\n",
    "    StructField(\"sentiment\", StringType(), True),\n",
    "])\n",
    "\n",
    "bronze_stream = (spark.readStream\n",
    "    .format(\"cloudFiles\")\n",
    "    .option(\"cloudFiles.format\", \"json\")\n",
    "    .option(\"maxFilesPerTrigger\", 500)\n",
    "    .schema(schema)\n",
    "    .load(TWEET_SOURCE_PATH)\n",
    "    .withColumn(\"source_file\", input_file_name())\n",
    "    .withColumn(\"processing_time\", current_timestamp())\n",
    "    .writeStream\n",
    "    .format(\"delta\")\n",
    "    .option(\"mergeSchema\", \"true\")\n",
    "    .outputMode(\"append\")\n",
    "    .option(\"checkpointLocation\", BRONZE_CHECKPOINT)\n",
    "    .queryName(\"bronze_stream\")\n",
    "    .trigger(processingTime=\"10 seconds\")\n",
    "    .start(BRONZE_DELTA)\n",
    ")"
   ]
  },
  {
   "cell_type": "markdown",
   "metadata": {
    "application/vnd.databricks.v1+cell": {
     "cellMetadata": {
      "byteLimit": 2048000,
      "rowLimit": 10000
     },
     "inputWidgets": {},
     "nuid": "9bc3e824-d218-43e5-a43b-4c6dbe31950d",
     "showTitle": false,
     "title": ""
    }
   },
   "source": [
    "## 4.0 Bronze Data Exploratory Data Analysis\n",
    "- How many tweets are captured in your Bronze Table?\n",
    "- Are there any columns that contain Nan or Null values?  If so how many and what will you do in your silver transforms to address this?\n",
    "- Count the number of tweets by each unique user handle and sort the data by descending count.\n",
    "- How many tweets have at least one mention (@) how many tweet have no mentions (@)\n",
    "- Plot a bar chart that shows the top 20 tweeters (users)\n"
   ]
  },
  {
   "cell_type": "code",
   "execution_count": 0,
   "metadata": {
    "application/vnd.databricks.v1+cell": {
     "cellMetadata": {
      "byteLimit": 2048000,
      "rowLimit": 10000
     },
     "inputWidgets": {},
     "nuid": "f4ee5656-d27d-45e6-bdc0-33d3326ec098",
     "showTitle": false,
     "title": ""
    }
   },
   "outputs": [
    {
     "output_type": "stream",
     "name": "stdout",
     "output_type": "stream",
     "text": [
      "waiting to load\nwaiting to load\nloaded\n"
     ]
    }
   ],
   "source": [
    "# wait for stream to finish setting up\n",
    "while True:\n",
    "    try:\n",
    "        DeltaTable.forPath(spark, BRONZE_DELTA).optimize().executeCompaction()\n",
    "        print(\"loaded\")\n",
    "        break\n",
    "    except:\n",
    "        print(\"waiting to load\")\n",
    "        time.sleep(10)"
   ]
  },
  {
   "cell_type": "markdown",
   "metadata": {
    "application/vnd.databricks.v1+cell": {
     "cellMetadata": {
      "byteLimit": 2048000,
      "rowLimit": 10000
     },
     "inputWidgets": {},
     "nuid": "45d5ed5d-ad42-4806-bef2-a746a23706b8",
     "showTitle": false,
     "title": ""
    }
   },
   "source": [
    "This is a sample eda for grading/testing"
   ]
  },
  {
   "cell_type": "code",
   "execution_count": 0,
   "metadata": {
    "application/vnd.databricks.v1+cell": {
     "cellMetadata": {
      "byteLimit": 2048000,
      "rowLimit": 10000
     },
     "inputWidgets": {},
     "nuid": "66cfbc99-c121-452b-a736-cacca82bb305",
     "showTitle": false,
     "title": ""
    }
   },
   "outputs": [
    {
     "output_type": "stream",
     "name": "stdout",
     "output_type": "stream",
     "text": [
      "Number of tweets in the Bronze Table: 2000\nNumber of tweets with at least one mention: 1446\nNumber of tweets without mentions: 554\n"
     ]
    },
    {
     "output_type": "display_data",
     "data": {
      "image/png": "[encoded data removed]"
     },
     "metadata": {
      "application/vnd.databricks.v1+output": {
       "addedWidgets": {},
       "arguments": {},
       "data": "data:image/png;base64,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\n",
       "datasetInfos": [],
       "metadata": {},
       "removedWidgets": [],
       "type": "image"
      }
     },
     "output_type": "display_data"
    }
   ],
   "source": [
    "bronze_df = spark.read.format(\"delta\").load(BRONZE_DELTA)\n",
    "\n",
    "# Count the number of tweets in the Bronze Table\n",
    "num_tweets = bronze_df.count()\n",
    "print(\"Number of tweets in the Bronze Table:\", num_tweets)\n",
    "\n",
    "# Identify columns containing NaN or Null values\n",
    "columns_with_null = [col_name for col_name in bronze_df.columns if bronze_df.filter(col(col_name).isNull()).count() > 0]\n",
    "if columns_with_null:\n",
    "    print(\"Columns containing NaN or Null values:\", columns_with_null)\n",
    "    #there do not appear to be any nan/null values so we will not worry about this\n",
    "\n",
    "# Count the number of tweets by user and sort\n",
    "tweets_by_user = bronze_df.groupBy(\"user\").count().orderBy(desc(\"count\"))\n",
    "\n",
    "# Number of tweets with and without mentions\n",
    "tweets_with_mentions = bronze_df.filter(col(\"text\").like(\"%@%\")).count()\n",
    "tweets_without_mentions = num_tweets - tweets_with_mentions\n",
    "print(\"Number of tweets with at least one mention:\", tweets_with_mentions)\n",
    "print(\"Number of tweets without mentions:\", tweets_without_mentions)\n",
    "\n",
    "# Plot a bar chart showing the top 20 tweeters\n",
    "top_20_tweeters = tweets_by_user.limit(20).toPandas()\n",
    "top_20_tweeters.plot(kind=\"bar\", x=\"user\", y=\"count\", figsize=(10, 6), legend=None)\n",
    "plt.xlabel(\"User\")\n",
    "plt.ylabel(\"Number of Tweets\")\n",
    "plt.title(\"Top 20 Tweeters\")\n",
    "plt.show()"
   ]
  },
  {
   "cell_type": "markdown",
   "metadata": {
    "application/vnd.databricks.v1+cell": {
     "cellMetadata": {
      "byteLimit": 2048000,
      "rowLimit": 10000
     },
     "inputWidgets": {},
     "nuid": "41c08ac6-7b84-464d-8982-5a4e5c5ad1f6",
     "showTitle": false,
     "title": ""
    }
   },
   "source": [
    "This is the EDA that updates over time, although you need to let the other code run first if doing \"run all\". If you run the cells one by one, you can activate immediately and watch dynamic updating."
   ]
  },
  {
   "cell_type": "code",
   "execution_count": 0,
   "metadata": {
    "application/vnd.databricks.v1+cell": {
     "cellMetadata": {
      "byteLimit": 2048000,
      "rowLimit": 10000
     },
     "inputWidgets": {},
     "nuid": "25dee8b4-d0bf-42e0-940e-7f1ef38a9dff",
     "showTitle": false,
     "title": ""
    }
   },
   "outputs": [
    {
     "output_type": "display_data",
     "data": {
      "application/vnd.jupyter.widget-view+json": {
       "model_id": "4684601ad8704249a2d89adc5d6efa41",
       "version_major": 2,
       "version_minor": 0
      },
      "text/plain": [
       "VBox(children=(ToggleButton(value=False, description='Start Loop'), Output()))"
      ]
     },
     "metadata": {},
     "output_type": "display_data"
    }
   ],
   "source": [
    "# Define a function to create a random plot\n",
    "def create_plot():\n",
    "\n",
    "    bronze_df = spark.read.format(\"delta\").load(BRONZE_DELTA)\n",
    "\n",
    "    # Count the number of tweets in the Bronze Table\n",
    "    num_tweets = bronze_df.count()\n",
    "    print(\"Number of tweets in the Bronze Table:\", num_tweets)\n",
    "\n",
    "    # Identify columns containing NaN or Null values\n",
    "    columns_with_null = [col_name for col_name in bronze_df.columns if bronze_df.filter(col(col_name).isNull()).count() > 0]\n",
    "    if columns_with_null:\n",
    "        print(\"Columns containing NaN or Null values:\", columns_with_null)\n",
    "        #there do not appear to be any nan/null values so we will not worry about this\n",
    "\n",
    "    # Count the number of tweets by user and sort\n",
    "    tweets_by_user = bronze_df.groupBy(\"user\").count().orderBy(desc(\"count\"))\n",
    "\n",
    "    # Number of tweets with and without mentions\n",
    "    tweets_with_mentions = bronze_df.filter(col(\"text\").like(\"%@%\")).count()\n",
    "    tweets_without_mentions = num_tweets - tweets_with_mentions\n",
    "    print(\"Number of tweets with at least one mention:\", tweets_with_mentions)\n",
    "    print(\"Number of tweets without mentions:\", tweets_without_mentions)\n",
    "\n",
    "    # Plot a bar chart showing the top 20 tweeters\n",
    "    top_20_tweeters = tweets_by_user.limit(20).toPandas()\n",
    "    top_20_tweeters.plot(kind=\"bar\", x=\"user\", y=\"count\", figsize=(10, 6), legend=None)\n",
    "    plt.xlabel(\"User\")\n",
    "    plt.ylabel(\"Number of Tweets\")\n",
    "    plt.title(\"Top 20 Tweeters\")\n",
    "    plt.show()\n",
    "\n",
    "\n",
    "# Define a function to update the plot\n",
    "def update_plot(change):\n",
    "    create_plot()\n",
    "\n",
    "# Create a loop application widget\n",
    "loop_button = widgets.ToggleButton(description='Start Loop', value=False)\n",
    "output = widgets.Output()\n",
    "\n",
    "def loop_event(change):\n",
    "    while loop_button.value:\n",
    "        with output:\n",
    "            output.clear_output(wait=True)\n",
    "            create_plot()\n",
    "        time.sleep(10)\n",
    "\n",
    "loop_button.observe(loop_event, 'value')\n",
    "\n",
    "# Display the loop application widget\n",
    "widgets.VBox([loop_button, output])"
   ]
  },
  {
   "cell_type": "markdown",
   "metadata": {
    "application/vnd.databricks.v1+cell": {
     "cellMetadata": {
      "byteLimit": 2048000,
      "rowLimit": 10000
     },
     "inputWidgets": {},
     "nuid": "38c290b9-a42a-4551-857b-3f461b8a1be6",
     "showTitle": false,
     "title": ""
    }
   },
   "source": [
    "## 5.0 Transform the Bronze Data to Silver Data using a stream\n",
    "- setup a read stream on your bronze delta table\n",
    "- setup a write stream to append to the silver delta table\n",
    "- Use the defined SILVER_CHECKPOINT and SILVER_DELTA paths in the includes\n",
    "- name your bronze to silver stream as silver_stream\n",
    "- transform the bronze data to the silver data using the data definition at the top of the notebook"
   ]
  },
  {
   "cell_type": "code",
   "execution_count": 0,
   "metadata": {
    "application/vnd.databricks.v1+cell": {
     "cellMetadata": {
      "byteLimit": 2048000,
      "rowLimit": 10000
     },
     "inputWidgets": {},
     "nuid": "65b029cb-ba45-4625-a9c1-d0d410a4962b",
     "showTitle": false,
     "title": ""
    }
   },
   "outputs": [],
   "source": [
    "spark.conf.set(\"spark.sql.legacy.timeParserPolicy\", \"LEGACY\")\n",
    "\n",
    "def extract_mentions(text):\n",
    "    mentions = re.findall(r'@(\\w+)', text)\n",
    "    return mentions\n",
    "\n",
    "extract_mentions_udf = udf(extract_mentions, ArrayType(StringType()))\n",
    "\n",
    "# Set up read stream on the Bronze Delta table\n",
    "silver_stream = (spark.readStream\n",
    "    .format(\"delta\")\n",
    "    .option(\"maxFilesPerTrigger\", 500)\n",
    "    .load(BRONZE_DELTA)\n",
    "    .withColumn(\"timestamp\", to_timestamp(\"date\", \"EEE MMM dd HH:mm:ss zzz yyyy\"))\n",
    "    .withColumn(\"mention\", explode(extract_mentions_udf(col(\"text\"))))\n",
    "    .withColumn(\"cleaned_text\", regexp_replace(col(\"text\"), r'@\\w+', ''))\n",
    "    .select(\"timestamp\", \"mention\", \"cleaned_text\", \"sentiment\")\n",
    "    .writeStream\n",
    "    .format(\"delta\")\n",
    "    .outputMode(\"append\")\n",
    "    .option(\"checkpointLocation\", SILVER_CHECKPOINT)\n",
    "    .queryName(\"silver_stream\")\n",
    "    .trigger(processingTime=\"10 seconds\")\n",
    "    .start(SILVER_DELTA)\n",
    ")"
   ]
  },
  {
   "cell_type": "markdown",
   "metadata": {
    "application/vnd.databricks.v1+cell": {
     "cellMetadata": {
      "byteLimit": 2048000,
      "rowLimit": 10000
     },
     "inputWidgets": {},
     "nuid": "9ee38aba-e340-4766-8339-71ef2ecfde3a",
     "showTitle": false,
     "title": ""
    }
   },
   "source": [
    "## 6.0 Transform the Silver Data to Gold Data using a stream\n",
    "- setup a read stream on your silver delta table\n",
    "- setup a write stream to append to the gold delta table\n",
    "- Use the defined GOLD_CHECKPOINT and GOLD_DELTA paths defines in the includes\n",
    "- name your silver to gold stream as gold_stream\n",
    "- transform the silver data to the gold data using the data definition at the top of the notebook\n",
    "- Load the pretrained transformer sentiment classifier from the MODEL_NAME at the production level from the MLflow registry\n",
    "- Use a spark UDF to parallelize the inference across your silver data"
   ]
  },
  {
   "cell_type": "code",
   "execution_count": 0,
   "metadata": {
    "application/vnd.databricks.v1+cell": {
     "cellMetadata": {
      "byteLimit": 2048000,
      "rowLimit": 10000
     },
     "inputWidgets": {},
     "nuid": "430d6bd8-2b68-4856-8c7a-1969dc5201fa",
     "showTitle": false,
     "title": ""
    }
   },
   "outputs": [
    {
     "output_type": "stream",
     "name": "stdout",
     "output_type": "stream",
     "text": [
      "/local_disk0/.ephemeral_nfs/envs/pythonEnv-088420b5-0142-4b31-a5b5-ee84c6d1ea8a/lib/python3.9/site-packages/mlflow/store/artifact/utils/models.py:32: FutureWarning: ``mlflow.tracking.client.MlflowClient.get_latest_versions`` is deprecated since 2.9.0. Model registry stages will be removed in a future major release. To learn more about the deprecation of model registry stages, see our migration guide here: https://mlflow.org/docs/2.12.2/model-registry.html#migrating-from-stages\n  latest = client.get_latest_versions(name, None if stage is None else [stage])\n"
     ]
    },
    {
     "output_type": "display_data",
     "data": {
      "application/vnd.jupyter.widget-view+json": {
       "model_id": "5994a26fa94046298832f60ddd3ccedd",
       "version_major": 2,
       "version_minor": 0
      },
      "text/plain": [
       "Downloading artifacts:   0%|          | 0/25 [00:00<?, ?it/s]"
      ]
     },
     "metadata": {},
     "output_type": "display_data"
    },
    {
     "output_type": "stream",
     "name": "stdout",
     "output_type": "stream",
     "text": [
      "2024/05/12 03:14:35 INFO mlflow.store.artifact.artifact_repo: The progress bar can be disabled by setting the environment variable MLFLOW_ENABLE_ARTIFACTS_PROGRESS_BAR to false\n2024/05/12 03:14:40 WARNING mlflow.utils.requirements_utils: Detected one or more mismatches between the model's dependencies and the current Python environment:\n - mlflow (current: 2.12.2, required: mlflow==2.11.3)\nTo fix the mismatches, call `mlflow.pyfunc.get_model_dependencies(model_uri)` to fetch the model's environment and install dependencies using the resulting environment file.\n2024/05/12 03:14:40 WARNING mlflow.pyfunc: Calling `spark_udf()` with `env_manager=\"local\"` does not recreate the same environment that was used during training, which may lead to errors or inaccurate predictions. We recommend specifying `env_manager=\"conda\"`, which automatically recreates the environment that was used to train the model and performs inference in the recreated environment.\n"
     ]
    },
    {
     "output_type": "display_data",
     "data": {
      "application/vnd.jupyter.widget-view+json": {
       "model_id": "d17476f32fc44c049a36b59c6b79fddc",
       "version_major": 2,
       "version_minor": 0
      },
      "text/plain": [
       "Downloading artifacts:   0%|          | 0/1 [00:00<?, ?it/s]"
      ]
     },
     "metadata": {},
     "output_type": "display_data"
    },
    {
     "output_type": "stream",
     "name": "stdout",
     "output_type": "stream",
     "text": [
      "2024/05/12 03:14:41 INFO mlflow.models.flavor_backend_registry: Selected backend for flavor 'python_function'\n"
     ]
    }
   ],
   "source": [
    "\n",
    "apply_model_udf = mlflow.pyfunc.spark_udf(spark, f\"models:/{MODEL_NAME}/production\")"
   ]
  },
  {
   "cell_type": "code",
   "execution_count": 0,
   "metadata": {
    "application/vnd.databricks.v1+cell": {
     "cellMetadata": {
      "byteLimit": 2048000,
      "rowLimit": 10000
     },
     "inputWidgets": {},
     "nuid": "ab79475f-4dbf-4644-9e35-ab5a8e5cbee4",
     "showTitle": false,
     "title": ""
    }
   },
   "outputs": [
    {
     "output_type": "stream",
     "name": "stdout",
     "output_type": "stream",
     "text": [
      "waiting to load\nloaded\n"
     ]
    }
   ],
   "source": [
    "# wait for stream to finish setting up\n",
    "while True:\n",
    "    try:\n",
    "        DeltaTable.forPath(spark, SILVER_DELTA).optimize().executeCompaction()\n",
    "        print(\"loaded\")\n",
    "        break\n",
    "    except:\n",
    "        print(\"waiting to load\")\n",
    "        time.sleep(10)"
   ]
  },
  {
   "cell_type": "code",
   "execution_count": 0,
   "metadata": {
    "application/vnd.databricks.v1+cell": {
     "cellMetadata": {
      "byteLimit": 2048000,
      "rowLimit": 10000
     },
     "inputWidgets": {},
     "nuid": "da2528a9-5382-4f51-9ab2-3798ffe7f536",
     "showTitle": false,
     "title": ""
    }
   },
   "outputs": [],
   "source": [
    "gold_stream = (spark.readStream\n",
    "    .format(\"delta\")\n",
    "    .option(\"maxFilesPerTrigger\", 100)\n",
    "    .load(SILVER_DELTA)\n",
    "    .withColumn(\"prediction\", apply_model_udf(col(\"cleaned_text\")))\n",
    "    .withColumn(\"predicted_score\", col(\"prediction.score\"))  \n",
    "    .withColumn(\"predicted_sentiment\", col(\"prediction.label\"))\n",
    "    .withColumn(\"sentiment_id\", when(col(\"sentiment\") == \"positive\", 1).otherwise(0))\n",
    "    .withColumn(\"predicted_sentiment_id\", when(col(\"predicted_sentiment\") == \"POS\", 1).otherwise(0))\n",
    "    .select(\"timestamp\",\"mention\",\"cleaned_text\",\"sentiment\",\"predicted_score\",\"predicted_sentiment\",\"sentiment_id\",\"predicted_sentiment_id\")\n",
    "    .writeStream\n",
    "    .format(\"delta\")\n",
    "    .outputMode(\"append\")\n",
    "    .option(\"checkpointLocation\", GOLD_CHECKPOINT)\n",
    "    .queryName(\"gold_stream\")\n",
    "    .trigger(processingTime=\"10 seconds\")\n",
    "    .start(GOLD_DELTA)\n",
    ")"
   ]
  },
  {
   "cell_type": "markdown",
   "metadata": {
    "application/vnd.databricks.v1+cell": {
     "cellMetadata": {
      "byteLimit": 2048000,
      "rowLimit": 10000
     },
     "inputWidgets": {},
     "nuid": "0494d8b4-5a55-47fc-af12-47325f34a303",
     "showTitle": false,
     "title": ""
    }
   },
   "source": [
    "## 7.0 Capture the accuracy metrics from the gold table in MLflow\n",
    "Store the following in an MLflow experiment run:\n",
    "- Store the precision, recall, and F1-score as MLflow metrics\n",
    "- Store an image of the confusion matrix as an MLflow artifact\n",
    "- Store the mdoel name and the MLflow version that was used as an MLflow parameters\n",
    "- Store the version of the Delta Table (input-silver) as an MLflow parameter"
   ]
  },
  {
   "cell_type": "markdown",
   "metadata": {
    "application/vnd.databricks.v1+cell": {
     "cellMetadata": {
      "byteLimit": 2048000,
      "rowLimit": 10000
     },
     "inputWidgets": {},
     "nuid": "de3f615f-9901-4631-80ee-a675c68b5442",
     "showTitle": false,
     "title": ""
    }
   },
   "source": [
    "Note: Neutral sentimetns treated as negatives"
   ]
  },
  {
   "cell_type": "code",
   "execution_count": 0,
   "metadata": {
    "application/vnd.databricks.v1+cell": {
     "cellMetadata": {
      "byteLimit": 2048000,
      "rowLimit": 10000
     },
     "inputWidgets": {},
     "nuid": "24e47845-a282-415f-8e67-3b8979dfc2b0",
     "showTitle": false,
     "title": ""
    }
   },
   "outputs": [
    {
     "output_type": "stream",
     "name": "stdout",
     "output_type": "stream",
     "text": [
      "not loaded\nnot loaded\nnot loaded\nnot loaded\nnot loaded\nnot loaded\nnot loaded\nnot loaded\nnot loaded\nnot loaded\nnot loaded\nnot loaded\nnot loaded\nnot loaded\nnot loaded\nnot loaded\nnot loaded\nnot loaded\nnot loaded\nnot loaded\nnot loaded\nnot loaded\nnot loaded\nnot loaded\nnot loaded\nnot loaded\nnot loaded\nnot loaded\nnot loaded\nnot loaded\nnot loaded\nnot loaded\nnot loaded\nnot loaded\nnot loaded\nnot loaded\nnot loaded\nnot loaded\nnot loaded\nnot loaded\nnot loaded\nnot loaded\nloaded\n"
     ]
    }
   ],
   "source": [
    "# Ensure that stream has started writing \n",
    "while True:\n",
    "    try:\n",
    "        DeltaTable.forPath(spark, GOLD_DELTA).optimize().executeCompaction()\n",
    "        print(\"loaded\")\n",
    "        break\n",
    "    except:\n",
    "        print(\"not loaded\")\n",
    "        time.sleep(10)"
   ]
  },
  {
   "cell_type": "code",
   "execution_count": 0,
   "metadata": {
    "application/vnd.databricks.v1+cell": {
     "cellMetadata": {
      "byteLimit": 2048000,
      "rowLimit": 10000
     },
     "inputWidgets": {},
     "nuid": "3bb174ad-67e4-4b0a-be36-ff20a760ee8b",
     "showTitle": false,
     "title": ""
    }
   },
   "outputs": [
    {
     "output_type": "display_data",
     "data": {
      "image/png": "[encoded data removed]"
     },
     "metadata": {
      "application/vnd.databricks.v1+output": {
       "addedWidgets": {},
       "arguments": {},
       "data": "data:image/png;base64,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\n",
       "datasetInfos": [],
       "metadata": {},
       "removedWidgets": [],
       "type": "image"
      }
     },
     "output_type": "display_data"
    }
   ],
   "source": [
    "time.sleep(30) # let some more data come in before demonstrating metrics\n",
    "\n",
    "gold_df = spark.read.format(\"delta\").load(GOLD_DELTA)\n",
    "\n",
    "# Extract predicted and actual labels\n",
    "y_true = gold_df.select('sentiment_id').rdd.map(lambda row: row.sentiment_id).collect()\n",
    "y_pred = gold_df.select('predicted_sentiment_id').rdd.map(lambda row: row.predicted_sentiment_id).collect()\n",
    "\n",
    "# Calculate confusion matrix\n",
    "cm = confusion_matrix(y_true, y_pred)\n",
    "\n",
    "# Calculate precision, recall, and F1-score\n",
    "tp = cm[1, 1]\n",
    "fp = cm[0, 1]\n",
    "fn = cm[1, 0]\n",
    "precision = tp / (tp + fp)\n",
    "recall = tp / (tp + fn)\n",
    "f1_score = 2 * (precision * recall) / (precision + recall)\n",
    "\n",
    "# Log metrics to MLflow\n",
    "with mlflow.start_run():\n",
    "\n",
    "    # Log precision, recall, and F1-score as metrics\n",
    "    mlflow.log_metric(\"precision\", precision)\n",
    "    mlflow.log_metric(\"recall\", recall)\n",
    "    mlflow.log_metric(\"f1_score\", f1_score)\n",
    "\n",
    "    # Log model name and MLflow version as parameters\n",
    "    mlflow.log_param(\"model_name\", MODEL_NAME)\n",
    "    mlflow.log_param(\"mlflow_version\", 1)\n",
    "\n",
    "    # Log Delta Table version as parameter\n",
    "    from delta.tables import DeltaTable\n",
    "    delta_table = DeltaTable.forPath(spark, GOLD_DELTA)\n",
    "    history_df = delta_table.history()\n",
    "    latest_version = history_df.select(\"version\").orderBy(\"version\", ascending=False).first()[0]\n",
    "    mlflow.log_param(\"delta_table_version\", latest_version)\n",
    "\n",
    "    sns.heatmap(cm, annot=True, cmap=\"Blues\", fmt='g', xticklabels=['Negative', 'Positive'], yticklabels=['Negative', 'Positive'])\n",
    "    plt.xlabel('Predicted label')\n",
    "    plt.ylabel('True label')\n",
    "    plt.savefig(\"confusion_matrix.png\")\n",
    "    mlflow.log_artifact(\"confusion_matrix.png\")"
   ]
  },
  {
   "cell_type": "markdown",
   "metadata": {
    "application/vnd.databricks.v1+cell": {
     "cellMetadata": {
      "byteLimit": 2048000,
      "rowLimit": 10000
     },
     "inputWidgets": {},
     "nuid": "81e0e2de-b872-4698-81cc-1669646c2183",
     "showTitle": false,
     "title": ""
    }
   },
   "source": [
    "## 8.0 Application Data Processing and Visualization\n",
    "- How many mentions are there in the gold data total?\n",
    "- Count the number of neutral, positive and negative tweets for each mention in new columns\n",
    "- Capture the total for each mention in a new column\n",
    "- Sort the mention count totals in descending order\n",
    "- Plot a bar chart of the top 20 mentions with positive sentiment (the people who are in favor)\n",
    "- Plot a bar chart of the top 20 mentions with negative sentiment (the people who are the vilians)\n",
    "\n",
    "You may want to use the \"Loop Application\" widget to control whether you repeateded display the latest plots while the data comes in from your streams before moving on to the next section and cleaning up your run.\n",
    "\n",
    "*note: A mention is a specific twitter user that has been \"mentioned\" in a tweet with an @user reference."
   ]
  },
  {
   "cell_type": "markdown",
   "metadata": {
    "application/vnd.databricks.v1+cell": {
     "cellMetadata": {
      "byteLimit": 2048000,
      "rowLimit": 10000
     },
     "inputWidgets": {},
     "nuid": "62e54081-c028-414f-912d-9aaf84446bde",
     "showTitle": false,
     "title": ""
    }
   },
   "source": [
    "This is a sample application data visualization for grading/testing"
   ]
  },
  {
   "cell_type": "code",
   "execution_count": 0,
   "metadata": {
    "application/vnd.databricks.v1+cell": {
     "cellMetadata": {
      "byteLimit": 2048000,
      "rowLimit": 10000
     },
     "inputWidgets": {},
     "nuid": "172d8092-7d9e-4921-a615-f0f8c416b089",
     "showTitle": false,
     "title": ""
    }
   },
   "outputs": [
    {
     "output_type": "display_data",
     "data": {
      "image/png": "[encoded data removed]"
     },
     "metadata": {
      "application/vnd.databricks.v1+output": {
       "addedWidgets": {},
       "arguments": {},
       "data": "data:image/png;base64,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\n",
       "datasetInfos": [],
       "metadata": {},
       "removedWidgets": [],
       "type": "image"
      }
     },
     "output_type": "display_data"
    },
    {
     "output_type": "display_data",
     "data": {
      "image/png": "[encoded data removed]"
     },
     "metadata": {
      "application/vnd.databricks.v1+output": {
       "addedWidgets": {},
       "arguments": {},
       "data": "data:image/png;base64,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\n",
       "datasetInfos": [],
       "metadata": {},
       "removedWidgets": [],
       "type": "image"
      }
     },
     "output_type": "display_data"
    }
   ],
   "source": [
    "gold_df = spark.read.format(\"delta\").load(GOLD_DELTA)\n",
    "\n",
    "# Calculate the number of mentions in the Gold Data\n",
    "total_mentions = gold_df.select(\"mention\").distinct().count()\n",
    "\n",
    "# Count the number of neutral, positive, and negative tweets for each mention\n",
    "mention_counts = gold_df.groupBy(\"mention\") \\\n",
    "    .agg(\n",
    "        min(\"timestamp\").alias(\"min_timestamp\"),\n",
    "        max(\"timestamp\").alias(\"max_timestamp\"),\n",
    "        sum(when(col(\"sentiment_id\") == 0, 1).otherwise(0)).alias(\"negative\"),\n",
    "        sum(when(col(\"sentiment_id\") == 1, 1).otherwise(0)).alias(\"positive\"),\n",
    "        sum(when(col(\"sentiment_id\") == 2, 1).otherwise(0)).alias(\"neutral\")\n",
    "    )\n",
    "\n",
    "# Calculate the total for each mention\n",
    "mention_counts = mention_counts.withColumn(\"total\", col(\"negative\") + col(\"positive\") + col(\"neutral\"))\n",
    "\n",
    "# Sort the mention count totals in descending order\n",
    "sorted_mention_counts = mention_counts.orderBy(col(\"total\").desc())\n",
    "\n",
    "# Plot a bar chart of the top 20 mentions with positive sentiment\n",
    "top_20_positive_mentions = sorted_mention_counts.filter(col(\"positive\") > 0).limit(20).orderBy(col(\"positive\").desc()).toPandas()\n",
    "top_20_positive_mentions.plot(kind=\"bar\", x=\"mention\", y=\"positive\", title=\"Top 20 Mentions with Positive Sentiment\")\n",
    "plt.show()\n",
    "\n",
    "# Plot a bar chart of the top 20 mentions with negative sentiment\n",
    "top_20_negative_mentions = sorted_mention_counts.filter(col(\"negative\") > 0).limit(20).orderBy(col(\"negative\").desc()).toPandas()\n",
    "top_20_negative_mentions.plot(kind=\"bar\", x=\"mention\", y=\"negative\", title=\"Top 20 Mentions with Negative Sentiment\")\n",
    "plt.show()"
   ]
  },
  {
   "cell_type": "markdown",
   "metadata": {
    "application/vnd.databricks.v1+cell": {
     "cellMetadata": {
      "byteLimit": 2048000,
      "rowLimit": 10000
     },
     "inputWidgets": {},
     "nuid": "e5e1ea7a-30fb-42a1-8f93-7da660d0c695",
     "showTitle": false,
     "title": ""
    }
   },
   "source": [
    "This is the Application Data Processing and Visualization that updates over time, although you need to let the other code run first if doing \"run all\". If you run the cells one by one, you can activate immediately and watch dynamic updating."
   ]
  },
  {
   "cell_type": "code",
   "execution_count": 0,
   "metadata": {
    "application/vnd.databricks.v1+cell": {
     "cellMetadata": {
      "byteLimit": 2048000,
      "rowLimit": 10000
     },
     "inputWidgets": {},
     "nuid": "cbde0a02-d58b-4bdb-ba6a-58d79ebdc36c",
     "showTitle": false,
     "title": ""
    }
   },
   "outputs": [
    {
     "output_type": "display_data",
     "data": {
      "application/vnd.jupyter.widget-view+json": {
       "model_id": "8dd93110e36e44f79fead4d86a4d1f7d",
       "version_major": 2,
       "version_minor": 0
      },
      "text/plain": [
       "VBox(children=(ToggleButton(value=False, description='Start Loop'), Output()))"
      ]
     },
     "metadata": {},
     "output_type": "display_data"
    }
   ],
   "source": [
    "# Define a function to create a random plot\n",
    "def create_plot():\n",
    "    gold_df = spark.read.format(\"delta\").load(GOLD_DELTA)\n",
    "\n",
    "    # Calculate the number of mentions in the Gold Data\n",
    "    total_mentions = gold_df.select(\"mention\").distinct().count()\n",
    "\n",
    "    # Count the number of neutral, positive, and negative tweets for each mention\n",
    "    mention_counts = gold_df.groupBy(\"mention\") \\\n",
    "        .agg(\n",
    "            min(\"timestamp\").alias(\"min_timestamp\"),\n",
    "            max(\"timestamp\").alias(\"max_timestamp\"),\n",
    "            sum(when(col(\"sentiment_id\") == 0, 1).otherwise(0)).alias(\"negative\"),\n",
    "            sum(when(col(\"sentiment_id\") == 1, 1).otherwise(0)).alias(\"positive\"),\n",
    "            sum(when(col(\"sentiment_id\") == 2, 1).otherwise(0)).alias(\"neutral\")\n",
    "        )\n",
    "\n",
    "    # Calculate the total for each mention\n",
    "    mention_counts = mention_counts.withColumn(\"total\", col(\"negative\") + col(\"positive\") + col(\"neutral\"))\n",
    "\n",
    "    # Sort the mention count totals in descending order\n",
    "    sorted_mention_counts = mention_counts.orderBy(col(\"total\").desc())\n",
    "\n",
    "    # Plot a bar chart of the top 20 mentions with positive sentiment\n",
    "    top_20_positive_mentions = sorted_mention_counts.filter(col(\"positive\") > 0).limit(20).orderBy(col(\"positive\").desc()).toPandas()\n",
    "    top_20_positive_mentions.plot(kind=\"bar\", x=\"mention\", y=\"positive\", title=\"Top 20 Mentions with Positive Sentiment\")\n",
    "    plt.show()\n",
    "\n",
    "    # Plot a bar chart of the top 20 mentions with negative sentiment\n",
    "    top_20_negative_mentions = sorted_mention_counts.filter(col(\"negative\") > 0).limit(20).orderBy(col(\"negative\").desc()).toPandas()\n",
    "    top_20_negative_mentions.plot(kind=\"bar\", x=\"mention\", y=\"negative\", title=\"Top 20 Mentions with Negative Sentiment\")\n",
    "    plt.show()\n",
    "\n",
    "# Define a function to update the plot\n",
    "def update_plot(change):\n",
    "    create_plot()\n",
    "\n",
    "# Create a loop application widget\n",
    "loop_button = widgets.ToggleButton(description='Start Loop', value=False)\n",
    "output = widgets.Output()\n",
    "\n",
    "def loop_event(change):\n",
    "    while loop_button.value:\n",
    "        with output:\n",
    "            output.clear_output(wait=True)\n",
    "            create_plot()\n",
    "        time.sleep(10)\n",
    "\n",
    "loop_button.observe(loop_event, 'value')\n",
    "\n",
    "# Display the loop application widget\n",
    "widgets.VBox([loop_button, output])\n"
   ]
  },
  {
   "cell_type": "markdown",
   "metadata": {
    "application/vnd.databricks.v1+cell": {
     "cellMetadata": {
      "byteLimit": 2048000,
      "rowLimit": 10000
     },
     "inputWidgets": {},
     "nuid": "5d5add3f-0c13-4d81-86d8-12cf3cfdd2c8",
     "showTitle": false,
     "title": ""
    }
   },
   "source": [
    "## 9.0 Clean up and completion of your pipeline\n",
    "- using the utilities what streams are running? If any.\n",
    "- Stop all active streams\n",
    "- print out the elapsed time of your notebook."
   ]
  },
  {
   "cell_type": "code",
   "execution_count": 0,
   "metadata": {
    "application/vnd.databricks.v1+cell": {
     "cellMetadata": {
      "byteLimit": 2048000,
      "rowLimit": 10000
     },
     "inputWidgets": {},
     "nuid": "0304e685-c26e-447d-b230-c37266f30003",
     "showTitle": false,
     "title": ""
    }
   },
   "outputs": [
    {
     "output_type": "stream",
     "name": "stdout",
     "output_type": "stream",
     "text": [
      "Active Streams:\ngold_stream\nsilver_stream\nbronze_stream\nTotal time to run code to get streaming up and running: 1134.32 seconds\nAll streams stopped\nPrevious Run cleared\n"
     ]
    }
   ],
   "source": [
    "end_program_immediately = True\n",
    "\n",
    "# Printing active streams\n",
    "print(\"Active Streams:\")\n",
    "if len(spark.streams.active) > 0:\n",
    "    for stream in spark.streams.active:\n",
    "        print(stream.name)\n",
    "else:\n",
    "    print(\"None\")\n",
    "\n",
    "# Get the notebooks ending time note START_TIME was established in the include file when the notebook started.\n",
    "END_TIME = time.time()\n",
    "print(f\"Total time to run code to get streaming up and running: {END_TIME - START_TIME:.2f} seconds\")\n",
    "\n",
    "# Ending the application before streaming is finished\n",
    "if not end_program_immediately:\n",
    "    time.sleep(3600)\n",
    "    gold_stream.awaitTermination() # in this case just wait or use widget to end program\n",
    "\n",
    "stop_all_streams()\n",
    "print(\"All streams stopped\")\n",
    "clear_previous_run()\n",
    "print(\"Previous Run cleared\")"
   ]
  },
  {
   "cell_type": "code",
   "execution_count": 0,
   "metadata": {
    "application/vnd.databricks.v1+cell": {
     "cellMetadata": {
      "byteLimit": 2048000,
      "rowLimit": 10000
     },
     "inputWidgets": {},
     "nuid": "ea759fc8-1d78-4d6d-b571-e2e256448b76",
     "showTitle": false,
     "title": ""
    }
   },
   "outputs": [
    {
     "output_type": "stream",
     "name": "stdout",
     "output_type": "stream",
     "text": [
      "Total time to run: 1139.32 seconds\n"
     ]
    }
   ],
   "source": [
    "# Get the notebooks ending time note START_TIME was established in the include file when the notebook started.\n",
    "END_TIME = time.time()\n",
    "print(f\"Total time to run: {END_TIME - START_TIME:.2f} seconds\")"
   ]
  },
  {
   "cell_type": "markdown",
   "metadata": {
    "application/vnd.databricks.v1+cell": {
     "cellMetadata": {
      "byteLimit": 2048000,
      "rowLimit": 10000
     },
     "inputWidgets": {},
     "nuid": "b88fc0e5-f50c-4ed1-9480-16a4c8a44b30",
     "showTitle": false,
     "title": ""
    }
   },
   "source": [
    "## 10.0 How Optimized is your Spark Application (Grad Students Only)\n",
    "Graduate students (registered for the DSCC-402 section of the course) are required to do this section.  This is a written analysis using the Spark UI (link to screen shots) that support your analysis of your pipelines execution and what is driving its performance.\n",
    "Recall that Spark Optimization has 5 significant dimensions of considertation:\n",
    "- Spill: write to executor disk due to lack of memory\n",
    "- Skew: imbalance in partition size\n",
    "- Shuffle: network io moving data between executors (wide transforms)\n",
    "- Storage: inefficiency due to disk storage format (small files, location)\n",
    "- Serialization: distribution of code segments across the cluster\n",
    "\n",
    "Comment on each of the dimentions of performance and how your impelementation is or is not being affected.  Use specific information in the Spark UI to support your description.  \n",
    "\n",
    "Note: you can take sreenshots of the Spark UI from your project runs in databricks and then link to those pictures by storing them as a publicly accessible file on your cloud drive (google, one drive, etc.)\n",
    "\n",
    "References:\n",
    "- [Spark UI Reference Reference](https://spark.apache.org/docs/latest/web-ui.html#web-ui)\n",
    "- [Spark UI Simulator](https://www.databricks.training/spark-ui-simulator/index.html)"
   ]
  },
  {
   "cell_type": "markdown",
   "metadata": {
    "application/vnd.databricks.v1+cell": {
     "cellMetadata": {
      "byteLimit": 2048000,
      "rowLimit": 10000
     },
     "inputWidgets": {},
     "nuid": "a0a5707d-a5ca-4e87-9e74-3b13d00337b0",
     "showTitle": false,
     "title": ""
    }
   },
   "source": [
    "### ENTER YOUR MARKDOWN HERE"
   ]
  }
 ],
 "metadata": {
  "application/vnd.databricks.v1+notebook": {
   "dashboards": [],
   "language": "python",
   "notebookMetadata": {
    "mostRecentlyExecutedCommandWithImplicitDF": {
     "commandId": -1,
     "dataframes": [
      "_sqldf"
     ]
    },
    "pythonIndentUnit": 4,
    "widgetLayout": [
     {
      "breakBefore": false,
      "name": "clear_previous_run",
      "width": 174
     },
     {
      "breakBefore": false,
      "name": "optimize_tables",
      "width": 174
     },
     {
      "breakBefore": false,
      "name": "stop_streams",
      "width": 174
     }
    ]
   },
   "notebookName": "Starter Streaming Tweet Sentiment - Spring 2024 Final Project",
   "widgets": {
    "clear_previous_run": {
     "currentValue": "Yes",
     "nuid": "11b43403-c70f-41ef-ab0e-41172583baaa",
     "typedWidgetInfo": null,
     "widgetInfo": {
      "widgetType": "dropdown",
      "defaultValue": "No",
      "label": null,
      "name": "clear_previous_run",
      "options": {
       "widgetType": "dropdown",
       "autoCreated": null,
       "choices": [
        "No",
        "Yes"
       ]
      }
     }
    },
    "optimize_tables": {
     "currentValue": "No",
     "nuid": "d27f2950-3146-4010-8bc6-58c47a93e7a9",
     "typedWidgetInfo": null,
     "widgetInfo": {
      "widgetType": "dropdown",
      "defaultValue": "No",
      "label": null,
      "name": "optimize_tables",
      "options": {
       "widgetType": "dropdown",
       "autoCreated": null,
       "choices": [
        "No",
        "Yes"
       ]
      }
     }
    },
    "stop_streams": {
     "currentValue": "Yes",
     "nuid": "d70a2190-266e-473c-86a7-84f7bf56b386",
     "typedWidgetInfo": null,
     "widgetInfo": {
      "widgetType": "dropdown",
      "defaultValue": "No",
      "label": null,
      "name": "stop_streams",
      "options": {
       "widgetType": "dropdown",
       "autoCreated": null,
       "choices": [
        "No",
        "Yes"
       ]
      }
     }
    }
   }
  }
 },
 "nbformat": 4,
 "nbformat_minor": 0
}
