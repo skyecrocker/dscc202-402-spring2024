{
 "cells": [
  {
   "cell_type": "markdown",
   "metadata": {
    "application/vnd.databricks.v1+cell": {
     "cellMetadata": {
      "byteLimit": 2048000,
      "rowLimit": 10000
     },
     "inputWidgets": {},
     "nuid": "fc749083-2211-485c-943f-640e198b2c70",
     "showTitle": false,
     "title": ""
    }
   },
   "source": [
    "## DSCC202-402 Data Science at Scale Final Project\n",
    "### Tracking Tweet sentiment at scale using a pretrained transformer (classifier)\n",
    "<p>Consider the following illustration of the end to end system that you will be building.  Each student should do their own work.  The project will demonstrate your understanding of Spark Streaming, the medalion data architecture using Delta Lake, Spark Inference at Scale using an MLflow packaged model as well as Exploritory Data Analysis and System Tracking and Monitoring.</p>\n",
    "<br><br>\n",
    "<img src=\"https://data-science-at-scale.s3.amazonaws.com/images/pipeline.drawio.png\">\n",
    "\n",
    "<p>\n",
    "You will be pulling an updated copy of the course GitHub repositiory: <a href=\"https://github.com/lpalum/dscc202-402-spring2024\">The Repo</a>.  If you are unclear on how to pull an updated copy using the GitHub command line, the following <a href=\"https://techwritingmatters.com/how-to-update-your-forked-repository-on-github\">document</a> is helpful.  Be sure to add the professors and TAs as collaborators on your project. \n",
    "\n",
    "- lpalum@gmail.com GitHub ID: lpalum\n",
    "- ajay.anand@rochester.edu GitHub ID: ajayan12\n",
    "- divyamunot1999@gmail.com GitHub ID: divyamunot\n",
    "- ylong6@u.Rochester.edu GitHub ID: NinaLong2077\n",
    "\n",
    "Once you have updates your fork of the repository you should see the following template project that is resident in the final_project directory.\n",
    "</p>\n",
    "\n",
    "<img src=\"https://data-science-at-scale.s3.amazonaws.com/images/notebooks.drawio.png\">\n",
    "\n",
    "<p>\n",
    "You can then pull your project into the Databrick Workspace using the <a href=\"https://www.databricks.training/step-by-step/importing-courseware-from-github/index.html\">Repos</a> feature.\n",
    "Each student is expected to submit the URL of their project on GitHub with their code checked in on the main/master branch.  This illustration highlights the branching scheme that you may use to work on your code in steps and then merge your submission into your master branch before submitting.\n",
    "</p>\n",
    "<img src=\"https://data-science-at-scale.s3.amazonaws.com/images/github.drawio.png\">\n",
    "<p>\n",
    "Work your way through this notebook which will give you the steps required to submit a complete and compliant project.  The following illustration and associated data dictionary specifies the transformations and data that you are to generate for each step in the medallion pipeline.\n",
    "</p>\n",
    "<br><br>\n",
    "<img src=\"https://data-science-at-scale.s3.amazonaws.com/images/dataframes.drawio.png\">\n",
    "\n",
    "#### Bronze Data - raw ingest\n",
    "- date - string in the source json\n",
    "- user - string in the source json\n",
    "- text - tweet string in the source json\n",
    "- sentiment - the given sentiment of the text as determined by an unknown model that is provided in the source json\n",
    "- source_file - the path of the source json file the this row of data was read from\n",
    "- processing_time - a timestamp of when you read this row from the source json\n",
    "\n",
    "#### Silver Data - Bronze Preprocessing\n",
    "- timestamp - convert date string in the bronze data to a timestamp\n",
    "- mention - every @username mentioned in the text string in the bronze data gets a row in this silver data table.\n",
    "- cleaned_text - the bronze text data with the mentions (@username) removed.\n",
    "- sentiment - the given sentiment that was associated with the text in the bronze table.\n",
    "\n",
    "#### Gold Data - Silver Table Inference\n",
    "- timestamp - the timestamp from the silver data table rows\n",
    "- mention - the mention from the silver data table rows\n",
    "- cleaned_text - the cleaned_text from the silver data table rows\n",
    "- sentiment - the given sentiment from the silver data table rows\n",
    "- predicted_score - score out of 100 from the Hugging Face Sentiment Transformer\n",
    "- predicted_sentiment - string representation of the sentiment\n",
    "- sentiment_id - 0 for negative and 1 for postive associated with the given sentiment\n",
    "- predicted_sentiment_id - 0 for negative and 1 for positive assocaited with the Hugging Face Sentiment Transformer\n",
    "\n",
    "#### Application Data - Gold Table Aggregation\n",
    "- min_timestamp - the oldest timestamp on a given mention (@username)\n",
    "- max_timestamp - the newest timestamp on a given mention (@username)\n",
    "- mention - the user (@username) that this row pertains to.\n",
    "- negative - total negative tweets directed at this mention (@username)\n",
    "- neutral - total neutral tweets directed at this mention (@username)\n",
    "- positive - total positive tweets directed at this mention (@username)\n",
    "\n",
    "When you are designing your approach, one of the main decisions that you will need to make is how you are going to orchestrate the streaming data processing in your pipeline.  There are several valid approaches.  First, you may choose to start the bronze_stream and let it complete (read and append all of the source data) before preceeding and starting up the silver_stream.  This approach has latency associated with it but it will allow your code to proceed in a linear fashion and process all the data by the end of your notebook execution.  Another potential approach is to start all the streams and have a \"watch\" method to determine when the pipeline has processed sufficient or all of the source data before stopping and displaying results.  Both of these approaches are valid and have different implications on how you will trigger your steams and how you will gate the execution of your pipeline.  Think through how you want to proceed and ask questions if you need guidance. The following references may be helpful:\n",
    "- [Spark Structured Streaming Programming Guide](https://spark.apache.org/docs/latest/structured-streaming-programming-guide.html)\n",
    "- [Databricks Autoloader - Cloudfiles](https://docs.databricks.com/en/ingestion/auto-loader/index.html)\n",
    "\n",
    "### Be sure that your project runs end to end when *Run all* is executued on this notebook! (15 Points out of 60)"
   ]
  },
  {
   "cell_type": "code",
   "execution_count": 0,
   "metadata": {
    "application/vnd.databricks.v1+cell": {
     "cellMetadata": {
      "byteLimit": 2048000,
      "rowLimit": 10000
     },
     "inputWidgets": {},
     "nuid": "068f25d0-1387-4342-89cf-ce82a8d614ce",
     "showTitle": true,
     "title": "Pull in the Includes & Utiltites"
    }
   },
   "outputs": [
    {
     "output_type": "display_data",
     "data": {
      "application/vnd.databricks.v1+bamboolib_hint": "{\"pd.DataFrames\": [], \"version\": \"0.0.1\"}",
      "text/plain": []
     },
     "metadata": {},
     "output_type": "display_data"
    },
    {
     "output_type": "display_data",
     "data": {
      "text/html": [
       "\n",
       "<H2>VERY IMPORTANT TO UNDERSTAND THE USE OF THESE VARIABLES!<br> Please ask if you are confused about their use.</H2>\n",
       "<table border=1>\n",
       "<tr><td><b>Variable Name</b></td><td><b>Value</b></td><td><b>Description</b></td></tr>\n",
       "<tr><td>TWEET_BUCKET_NAME</td><td>voc-75-databricks-data</td><td>AWS S3 Bucket Name where the tweets are coming into your system.</td></tr>\n",
       "<tr><td>TWEET_BUCKET_URL</td><td>https://voc-75-databricks-data.s3.amazonaws.com/</td><td>AWS S3 Bucket URL where the tweets are coming into your system.</td></tr>\n",
       "<tr><td>TWEET_SOURCE_PATH</td><td>s3a://voc-75-databricks-data/voc_volume/</td><td>AWS S3 Path where the tweets are coming into your system.</td></tr>\n",
       "<tr><td>USER_DIR</td><td>/tmp/labuser104917-3060316/</td><td>Path to the local storage (dbfs) for your project.</td></tr>\n",
       "<tr><td>BRONZE_CHECKPOINT</td><td>/tmp/labuser104917-3060316/bronze.checkpoint</td><td>Store your Bronze Checkpoint data here.</td></tr>\n",
       "<tr><td>BRONZE_DELTA</td><td>/tmp/labuser104917-3060316/bronze.delta</td><td>Store your Bronze Delta Table here.</td></tr>\n",
       "<tr><td>SILVER_CHECKPOINT</td><td>/tmp/labuser104917-3060316/silver.checkpoint</td><td>Store your Silver Checkpoint data here.</td></tr>\n",
       "<tr><td>SILVER_DELTA</td><td>/tmp/labuser104917-3060316/silver.delta</td><td>Store your Silver Delta Table here.</td></tr>\n",
       "<tr><td>GOLD_CHECKPOINT</td><td>/tmp/labuser104917-3060316/gold.checkpoint</td><td>Store your Gold Checkpoint data here.</td></tr>\n",
       "<tr><td>GOLD_DELTA</td><td>/tmp/labuser104917-3060316/gold.delta</td><td>Store your Gold Delta Table here.</td></tr>\n",
       "<tr><td>MODEL_NAME</td><td>HF_TWEET_SENTIMENT</td><td>Load this production model</td></tr>\n",
       "<tr><td>HF_MODEL_NAME</td><td>finiteautomata/bertweet-base-sentiment-analysis</td><td>The Hugging Face Model for Tweet sentiment classification: https://huggingface.co/finiteautomata/bertweet-base-sentiment-analysis </td></tr>\n",
       "</table>\n"
      ]
     },
     "metadata": {
      "application/vnd.databricks.v1+output": {
       "addedWidgets": {},
       "arguments": {},
       "data": "\n<H2>VERY IMPORTANT TO UNDERSTAND THE USE OF THESE VARIABLES!<br> Please ask if you are confused about their use.</H2>\n<table border=1>\n<tr><td><b>Variable Name</b></td><td><b>Value</b></td><td><b>Description</b></td></tr>\n<tr><td>TWEET_BUCKET_NAME</td><td>voc-75-databricks-data</td><td>AWS S3 Bucket Name where the tweets are coming into your system.</td></tr>\n<tr><td>TWEET_BUCKET_URL</td><td>https://voc-75-databricks-data.s3.amazonaws.com/</td><td>AWS S3 Bucket URL where the tweets are coming into your system.</td></tr>\n<tr><td>TWEET_SOURCE_PATH</td><td>s3a://voc-75-databricks-data/voc_volume/</td><td>AWS S3 Path where the tweets are coming into your system.</td></tr>\n<tr><td>USER_DIR</td><td>/tmp/labuser104917-3060316/</td><td>Path to the local storage (dbfs) for your project.</td></tr>\n<tr><td>BRONZE_CHECKPOINT</td><td>/tmp/labuser104917-3060316/bronze.checkpoint</td><td>Store your Bronze Checkpoint data here.</td></tr>\n<tr><td>BRONZE_DELTA</td><td>/tmp/labuser104917-3060316/bronze.delta</td><td>Store your Bronze Delta Table here.</td></tr>\n<tr><td>SILVER_CHECKPOINT</td><td>/tmp/labuser104917-3060316/silver.checkpoint</td><td>Store your Silver Checkpoint data here.</td></tr>\n<tr><td>SILVER_DELTA</td><td>/tmp/labuser104917-3060316/silver.delta</td><td>Store your Silver Delta Table here.</td></tr>\n<tr><td>GOLD_CHECKPOINT</td><td>/tmp/labuser104917-3060316/gold.checkpoint</td><td>Store your Gold Checkpoint data here.</td></tr>\n<tr><td>GOLD_DELTA</td><td>/tmp/labuser104917-3060316/gold.delta</td><td>Store your Gold Delta Table here.</td></tr>\n<tr><td>MODEL_NAME</td><td>HF_TWEET_SENTIMENT</td><td>Load this production model</td></tr>\n<tr><td>HF_MODEL_NAME</td><td>finiteautomata/bertweet-base-sentiment-analysis</td><td>The Hugging Face Model for Tweet sentiment classification: https://huggingface.co/finiteautomata/bertweet-base-sentiment-analysis </td></tr>\n</table>\n",
       "datasetInfos": [],
       "metadata": {},
       "removedWidgets": [],
       "textData": null,
       "type": "htmlSandbox"
      }
     },
     "output_type": "display_data"
    },
    {
     "output_type": "stream",
     "name": "stdout",
     "output_type": "stream",
     "text": [
      "the includes are included\n"
     ]
    }
   ],
   "source": [
    "%run ./includes/includes"
   ]
  },
  {
   "cell_type": "code",
   "execution_count": 0,
   "metadata": {
    "application/vnd.databricks.v1+cell": {
     "cellMetadata": {
      "byteLimit": 2048000,
      "rowLimit": 10000
     },
     "inputWidgets": {},
     "nuid": "6512bf1b-50e0-4a4b-84a9-e280a6260b56",
     "showTitle": true,
     "title": "Notebook Control Widgets (maybe helpful)"
    }
   },
   "outputs": [],
   "source": [
    "\"\"\"\n",
    "Adding a widget to the notebook to control the clearing of a previous run.\n",
    "or stopping the active streams using routines defined in the utilities notebook\n",
    "\"\"\"\n",
    "dbutils.widgets.removeAll()\n",
    "\n",
    "dbutils.widgets.dropdown(\"clear_previous_run\", \"No\", [\"No\",\"Yes\"])\n",
    "if (getArgument(\"clear_previous_run\") == \"Yes\"):\n",
    "    clear_previous_run()\n",
    "    print(\"Cleared all previous data.\")\n",
    "\n",
    "dbutils.widgets.dropdown(\"stop_streams\", \"No\", [\"No\",\"Yes\"])\n",
    "if (getArgument(\"stop_streams\") == \"Yes\"):\n",
    "    stop_all_streams()\n",
    "    print(\"Stopped all active streams.\")\n",
    "\n",
    "from delta import *\n",
    "dbutils.widgets.dropdown(\"optimize_tables\", \"No\", [\"No\",\"Yes\"])\n",
    "if (getArgument(\"optimize_tables\") == \"Yes\"):\n",
    "    # Suck up those small files that we have been appending.\n",
    "    DeltaTable.forPath(spark, BRONZE_DELTA).optimize().executeCompaction()\n",
    "    # Suck up those small files that we have been appending.\n",
    "    DeltaTable.forPath(spark, SILVER_DELTA).optimize().executeCompaction()\n",
    "    # Suck up those small files that we have been appending.\n",
    "    DeltaTable.forPath(spark, GOLD_DELTA).optimize().executeCompaction()\n",
    "    print(\"Optimized all of the Delta Tables\")\n",
    "\n",
    "    "
   ]
  },
  {
   "cell_type": "markdown",
   "metadata": {
    "application/vnd.databricks.v1+cell": {
     "cellMetadata": {
      "byteLimit": 2048000,
      "rowLimit": 10000
     },
     "inputWidgets": {},
     "nuid": "e8ce7c13-7f8f-4e11-b50c-fdaebbcf3f99",
     "showTitle": false,
     "title": ""
    }
   },
   "source": [
    "## 1.0 Import your libraries here...\n",
    "- Are your shuffle partitions consistent with your cluster and your workload?\n",
    "- Do you have the necessary libraries to perform the required operations in the pipeline/application?"
   ]
  },
  {
   "cell_type": "code",
   "execution_count": 0,
   "metadata": {
    "application/vnd.databricks.v1+cell": {
     "cellMetadata": {
      "byteLimit": 2048000,
      "rowLimit": 10000
     },
     "inputWidgets": {},
     "nuid": "67bafbb7-d34e-4e86-b159-b2e062faa1d0",
     "showTitle": false,
     "title": ""
    }
   },
   "outputs": [],
   "source": [
    "from pyspark.sql.functions import *\n",
    "from pyspark.sql.types import *\n",
    "import matplotlib.pyplot as plt\n",
    "import re\n",
    "from mlflow.tracking import MlflowClient\n",
    "import mlflow.pyfunc\n",
    "import mlflow\n",
    "from sklearn.metrics import confusion_matrix\n",
    "import numpy as np\n",
    "import seaborn as sns\n",
    "import ipywidgets as widgets\n",
    "from transformers import pipeline"
   ]
  },
  {
   "cell_type": "code",
   "execution_count": 0,
   "metadata": {
    "application/vnd.databricks.v1+cell": {
     "cellMetadata": {
      "byteLimit": 2048000,
      "rowLimit": 10000
     },
     "inputWidgets": {},
     "nuid": "fccd5019-118d-44a3-ba61-1cd2c5dbf847",
     "showTitle": false,
     "title": ""
    }
   },
   "outputs": [
    {
     "output_type": "stream",
     "name": "stdout",
     "output_type": "stream",
     "text": [
      "4\n4\n"
     ]
    }
   ],
   "source": [
    "print(spark.conf.get(\"spark.sql.shuffle.partitions\"))\n",
    "print(sc.defaultParallelism)\n",
    "spark.conf.set(\"spark.sql.shuffle.partitions\", sc.defaultParallelism)"
   ]
  },
  {
   "cell_type": "markdown",
   "metadata": {
    "application/vnd.databricks.v1+cell": {
     "cellMetadata": {
      "byteLimit": 2048000,
      "rowLimit": 10000
     },
     "inputWidgets": {},
     "nuid": "2b7624b4-0aa5-46b7-9767-52f462b2c574",
     "showTitle": false,
     "title": ""
    }
   },
   "source": [
    "## 2.0 Use the utility functions to ...\n",
    "- Read the source file directory listing\n",
    "- Count the source files (how many are there?)\n",
    "- print the contents of one of the files"
   ]
  },
  {
   "cell_type": "code",
   "execution_count": 0,
   "metadata": {
    "application/vnd.databricks.v1+cell": {
     "cellMetadata": {
      "byteLimit": 2048000,
      "rowLimit": 10000
     },
     "inputWidgets": {},
     "nuid": "a59749d5-e45d-460f-9be1-33652cda2ea5",
     "showTitle": false,
     "title": ""
    }
   },
   "outputs": [
    {
     "output_type": "stream",
     "name": "stdout",
     "output_type": "stream",
     "text": [
      "Number of source files: 200001\nOut[9]: b'{\"date\": \"Mon Apr 06 22:19:45 PDT 2009\", \"user\": \"_TheSpecialOne_\", \"text\": \"@switchfoot http://twitpic.com/2y1zl - Awww, that\\'s a bummer.  You shoulda got David Carr of Third Day to do it. ;D\", \"sentiment\": \"negative\"}'"
     ]
    }
   ],
   "source": [
    "source_listing_df = get_source_listing_df()\n",
    "\n",
    "print(\"Number of source files:\", len(source_listing_df))\n",
    "\n",
    "file_path = source_listing_df.iloc[0, 0]\n",
    "\n",
    "show_s3_file_contents(file_path)"
   ]
  },
  {
   "cell_type": "markdown",
   "metadata": {
    "application/vnd.databricks.v1+cell": {
     "cellMetadata": {
      "byteLimit": 2048000,
      "rowLimit": 10000
     },
     "inputWidgets": {},
     "nuid": "1676aed7-527f-4ea7-9d3b-52544e8c1e37",
     "showTitle": false,
     "title": ""
    }
   },
   "source": [
    "## 3.0 Transform the Raw Data to Bronze Data using a stream\n",
    "- define the schema for the raw data\n",
    "- setup a read stream using cloudfiles and the source data format\n",
    "- setup a write stream using cloudfiles to append to the bronze delta table\n",
    "- enforce schema\n",
    "- allow a new schema to be merged into the bronze delta table\n",
    "- Use the defined BRONZE_CHECKPOINT and BRONZE_DELTA paths defines in the includes\n",
    "- name your raw to bronze stream as bronze_stream\n",
    "- transform the raw data to the bronze data using the data definition at the top of the notebook"
   ]
  },
  {
   "cell_type": "code",
   "execution_count": 0,
   "metadata": {
    "application/vnd.databricks.v1+cell": {
     "cellMetadata": {
      "byteLimit": 2048000,
      "rowLimit": 10000
     },
     "inputWidgets": {},
     "nuid": "c4e37574-9885-4908-bf97-609d140a8818",
     "showTitle": false,
     "title": ""
    }
   },
   "outputs": [],
   "source": [
    "schema = StructType([\n",
    "    StructField(\"date\", StringType(), True),\n",
    "    StructField(\"user\", StringType(), True),\n",
    "    StructField(\"text\", StringType(), True),\n",
    "    StructField(\"sentiment\", StringType(), True),\n",
    "])\n",
    "\n",
    "bronze_stream = (spark.readStream\n",
    "    .format(\"cloudFiles\")\n",
    "    .option(\"cloudFiles.format\", \"json\")\n",
    "    .option(\"maxFilesPerTrigger\", 500)\n",
    "    .schema(schema)\n",
    "    .load(TWEET_SOURCE_PATH)\n",
    "    .withColumn(\"source_file\", input_file_name())\n",
    "    .withColumn(\"processing_time\", current_timestamp())\n",
    "    .writeStream\n",
    "    .format(\"delta\")\n",
    "    .option(\"mergeSchema\", \"true\")\n",
    "    .outputMode(\"append\")\n",
    "    .option(\"checkpointLocation\", BRONZE_CHECKPOINT)\n",
    "    .queryName(\"bronze_stream\")\n",
    "    .trigger(processingTime=\"10 seconds\")\n",
    "    .start(BRONZE_DELTA)\n",
    ")"
   ]
  },
  {
   "cell_type": "markdown",
   "metadata": {
    "application/vnd.databricks.v1+cell": {
     "cellMetadata": {
      "byteLimit": 2048000,
      "rowLimit": 10000
     },
     "inputWidgets": {},
     "nuid": "9bc3e824-d218-43e5-a43b-4c6dbe31950d",
     "showTitle": false,
     "title": ""
    }
   },
   "source": [
    "## 4.0 Bronze Data Exploratory Data Analysis\n",
    "- How many tweets are captured in your Bronze Table?\n",
    "- Are there any columns that contain Nan or Null values?  If so how many and what will you do in your silver transforms to address this?\n",
    "- Count the number of tweets by each unique user handle and sort the data by descending count.\n",
    "- How many tweets have at least one mention (@) how many tweet have no mentions (@)\n",
    "- Plot a bar chart that shows the top 20 tweeters (users)\n"
   ]
  },
  {
   "cell_type": "code",
   "execution_count": 0,
   "metadata": {
    "application/vnd.databricks.v1+cell": {
     "cellMetadata": {
      "byteLimit": 2048000,
      "rowLimit": 10000
     },
     "inputWidgets": {},
     "nuid": "f4ee5656-d27d-45e6-bdc0-33d3326ec098",
     "showTitle": false,
     "title": ""
    }
   },
   "outputs": [
    {
     "output_type": "stream",
     "name": "stdout",
     "output_type": "stream",
     "text": [
      "waiting to load\nwaiting to load\nloaded\n"
     ]
    }
   ],
   "source": [
    "# wait for stream to finish setting up\n",
    "while True:\n",
    "    try:\n",
    "        DeltaTable.forPath(spark, BRONZE_DELTA).optimize().executeCompaction()\n",
    "        print(\"loaded\")\n",
    "        break\n",
    "    except:\n",
    "        print(\"waiting to load\")\n",
    "        time.sleep(10)"
   ]
  },
  {
   "cell_type": "markdown",
   "metadata": {
    "application/vnd.databricks.v1+cell": {
     "cellMetadata": {},
     "inputWidgets": {},
     "nuid": "45d5ed5d-ad42-4806-bef2-a746a23706b8",
     "showTitle": false,
     "title": ""
    }
   },
   "source": [
    "This is a sample eda for grading/testing"
   ]
  },
  {
   "cell_type": "code",
   "execution_count": 0,
   "metadata": {
    "application/vnd.databricks.v1+cell": {
     "cellMetadata": {},
     "inputWidgets": {},
     "nuid": "66cfbc99-c121-452b-a736-cacca82bb305",
     "showTitle": false,
     "title": ""
    }
   },
   "outputs": [],
   "source": [
    "bronze_df = spark.read.format(\"delta\").load(BRONZE_DELTA)\n",
    "\n",
    "# Count the number of tweets in the Bronze Table\n",
    "num_tweets = bronze_df.count()\n",
    "print(\"Number of tweets in the Bronze Table:\", num_tweets)\n",
    "\n",
    "# Identify columns containing NaN or Null values\n",
    "columns_with_null = [col_name for col_name in bronze_df.columns if bronze_df.filter(col(col_name).isNull()).count() > 0]\n",
    "if columns_with_null:\n",
    "    print(\"Columns containing NaN or Null values:\", columns_with_null)\n",
    "    #there do not appear to be any nan/null values so we will not worry about this\n",
    "\n",
    "# Count the number of tweets by user and sort\n",
    "tweets_by_user = bronze_df.groupBy(\"user\").count().orderBy(desc(\"count\"))\n",
    "\n",
    "# Number of tweets with and without mentions\n",
    "tweets_with_mentions = bronze_df.filter(col(\"text\").like(\"%@%\")).count()\n",
    "tweets_without_mentions = num_tweets - tweets_with_mentions\n",
    "print(\"Number of tweets with at least one mention:\", tweets_with_mentions)\n",
    "print(\"Number of tweets without mentions:\", tweets_without_mentions)\n",
    "\n",
    "# Plot a bar chart showing the top 20 tweeters\n",
    "top_20_tweeters = tweets_by_user.limit(20).toPandas()\n",
    "top_20_tweeters.plot(kind=\"bar\", x=\"user\", y=\"count\", figsize=(10, 6), legend=None)\n",
    "plt.xlabel(\"User\")\n",
    "plt.ylabel(\"Number of Tweets\")\n",
    "plt.title(\"Top 20 Tweeters\")\n",
    "plt.show()"
   ]
  },
  {
   "cell_type": "markdown",
   "metadata": {
    "application/vnd.databricks.v1+cell": {
     "cellMetadata": {},
     "inputWidgets": {},
     "nuid": "41c08ac6-7b84-464d-8982-5a4e5c5ad1f6",
     "showTitle": false,
     "title": ""
    }
   },
   "source": [
    "This is the EDA that updates over time, although you need to let the other code run first if doing \"run all\". If you run the cells one by one, you can activate immediately and watch dynamic updating."
   ]
  },
  {
   "cell_type": "code",
   "execution_count": 0,
   "metadata": {
    "application/vnd.databricks.v1+cell": {
     "cellMetadata": {
      "byteLimit": 2048000,
      "rowLimit": 10000
     },
     "inputWidgets": {},
     "nuid": "25dee8b4-d0bf-42e0-940e-7f1ef38a9dff",
     "showTitle": false,
     "title": ""
    }
   },
   "outputs": [
    {
     "output_type": "display_data",
     "data": {
      "application/vnd.jupyter.widget-view+json": {
       "model_id": "a59750af875842989eb9c06d3e8ed120",
       "version_major": 2,
       "version_minor": 0
      },
      "text/plain": [
       "VBox(children=(ToggleButton(value=False, description='Start Loop'), Output()))"
      ]
     },
     "metadata": {},
     "output_type": "display_data"
    }
   ],
   "source": [
    "# Define a function to create a random plot\n",
    "def create_plot():\n",
    "\n",
    "    bronze_df = spark.read.format(\"delta\").load(BRONZE_DELTA)\n",
    "\n",
    "    # Count the number of tweets in the Bronze Table\n",
    "    num_tweets = bronze_df.count()\n",
    "    print(\"Number of tweets in the Bronze Table:\", num_tweets)\n",
    "\n",
    "    # Identify columns containing NaN or Null values\n",
    "    columns_with_null = [col_name for col_name in bronze_df.columns if bronze_df.filter(col(col_name).isNull()).count() > 0]\n",
    "    if columns_with_null:\n",
    "        print(\"Columns containing NaN or Null values:\", columns_with_null)\n",
    "        #there do not appear to be any nan/null values so we will not worry about this\n",
    "\n",
    "    # Count the number of tweets by user and sort\n",
    "    tweets_by_user = bronze_df.groupBy(\"user\").count().orderBy(desc(\"count\"))\n",
    "\n",
    "    # Number of tweets with and without mentions\n",
    "    tweets_with_mentions = bronze_df.filter(col(\"text\").like(\"%@%\")).count()\n",
    "    tweets_without_mentions = num_tweets - tweets_with_mentions\n",
    "    print(\"Number of tweets with at least one mention:\", tweets_with_mentions)\n",
    "    print(\"Number of tweets without mentions:\", tweets_without_mentions)\n",
    "\n",
    "    # Plot a bar chart showing the top 20 tweeters\n",
    "    top_20_tweeters = tweets_by_user.limit(20).toPandas()\n",
    "    top_20_tweeters.plot(kind=\"bar\", x=\"user\", y=\"count\", figsize=(10, 6), legend=None)\n",
    "    plt.xlabel(\"User\")\n",
    "    plt.ylabel(\"Number of Tweets\")\n",
    "    plt.title(\"Top 20 Tweeters\")\n",
    "    plt.show()\n",
    "\n",
    "\n",
    "# Define a function to update the plot\n",
    "def update_plot(change):\n",
    "    create_plot()\n",
    "\n",
    "# Create a loop application widget\n",
    "loop_button = widgets.ToggleButton(description='Start Loop', value=False)\n",
    "output = widgets.Output()\n",
    "\n",
    "def loop_event(change):\n",
    "    while loop_button.value:\n",
    "        with output:\n",
    "            output.clear_output(wait=True)\n",
    "            create_plot()\n",
    "        time.sleep(10)\n",
    "\n",
    "loop_button.observe(loop_event, 'value')\n",
    "\n",
    "# Display the loop application widget\n",
    "widgets.VBox([loop_button, output])"
   ]
  },
  {
   "cell_type": "markdown",
   "metadata": {
    "application/vnd.databricks.v1+cell": {
     "cellMetadata": {
      "byteLimit": 2048000,
      "rowLimit": 10000
     },
     "inputWidgets": {},
     "nuid": "38c290b9-a42a-4551-857b-3f461b8a1be6",
     "showTitle": false,
     "title": ""
    }
   },
   "source": [
    "## 5.0 Transform the Bronze Data to Silver Data using a stream\n",
    "- setup a read stream on your bronze delta table\n",
    "- setup a write stream to append to the silver delta table\n",
    "- Use the defined SILVER_CHECKPOINT and SILVER_DELTA paths in the includes\n",
    "- name your bronze to silver stream as silver_stream\n",
    "- transform the bronze data to the silver data using the data definition at the top of the notebook"
   ]
  },
  {
   "cell_type": "code",
   "execution_count": 0,
   "metadata": {
    "application/vnd.databricks.v1+cell": {
     "cellMetadata": {
      "byteLimit": 2048000,
      "rowLimit": 10000
     },
     "inputWidgets": {},
     "nuid": "65b029cb-ba45-4625-a9c1-d0d410a4962b",
     "showTitle": false,
     "title": ""
    }
   },
   "outputs": [],
   "source": [
    "spark.conf.set(\"spark.sql.legacy.timeParserPolicy\", \"LEGACY\")\n",
    "\n",
    "def extract_mentions(text):\n",
    "    mentions = re.findall(r'@(\\w+)', text)\n",
    "    return mentions\n",
    "\n",
    "extract_mentions_udf = udf(extract_mentions, ArrayType(StringType()))\n",
    "\n",
    "# Set up read stream on the Bronze Delta table\n",
    "silver_stream = (spark.readStream\n",
    "    .format(\"delta\")\n",
    "    .option(\"maxFilesPerTrigger\", 500)\n",
    "    .load(BRONZE_DELTA)\n",
    "    .withColumn(\"timestamp\", to_timestamp(\"date\", \"EEE MMM dd HH:mm:ss zzz yyyy\"))\n",
    "    .withColumn(\"mention\", explode(extract_mentions_udf(col(\"text\"))))\n",
    "    .withColumn(\"cleaned_text\", regexp_replace(col(\"text\"), r'@\\w+', ''))\n",
    "    .select(\"timestamp\", \"mention\", \"cleaned_text\", \"sentiment\")\n",
    "    .writeStream\n",
    "    .format(\"delta\")\n",
    "    .outputMode(\"append\")\n",
    "    .option(\"checkpointLocation\", SILVER_CHECKPOINT)\n",
    "    .queryName(\"silver_stream\")\n",
    "    .trigger(processingTime=\"10 seconds\")\n",
    "    .start(SILVER_DELTA)\n",
    ")"
   ]
  },
  {
   "cell_type": "markdown",
   "metadata": {
    "application/vnd.databricks.v1+cell": {
     "cellMetadata": {
      "byteLimit": 2048000,
      "rowLimit": 10000
     },
     "inputWidgets": {},
     "nuid": "9ee38aba-e340-4766-8339-71ef2ecfde3a",
     "showTitle": false,
     "title": ""
    }
   },
   "source": [
    "## 6.0 Transform the Silver Data to Gold Data using a stream\n",
    "- setup a read stream on your silver delta table\n",
    "- setup a write stream to append to the gold delta table\n",
    "- Use the defined GOLD_CHECKPOINT and GOLD_DELTA paths defines in the includes\n",
    "- name your silver to gold stream as gold_stream\n",
    "- transform the silver data to the gold data using the data definition at the top of the notebook\n",
    "- Load the pretrained transformer sentiment classifier from the MODEL_NAME at the production level from the MLflow registry\n",
    "- Use a spark UDF to parallelize the inference across your silver data"
   ]
  },
  {
   "cell_type": "code",
   "execution_count": 0,
   "metadata": {
    "application/vnd.databricks.v1+cell": {
     "cellMetadata": {
      "byteLimit": 2048000,
      "rowLimit": 10000
     },
     "inputWidgets": {},
     "nuid": "430d6bd8-2b68-4856-8c7a-1969dc5201fa",
     "showTitle": false,
     "title": ""
    }
   },
   "outputs": [
    {
     "output_type": "stream",
     "name": "stdout",
     "output_type": "stream",
     "text": [
      "/local_disk0/.ephemeral_nfs/envs/pythonEnv-78acbfc5-365a-4f43-b95f-6ac32b05d908/lib/python3.9/site-packages/mlflow/store/artifact/utils/models.py:32: FutureWarning: ``mlflow.tracking.client.MlflowClient.get_latest_versions`` is deprecated since 2.9.0. Model registry stages will be removed in a future major release. To learn more about the deprecation of model registry stages, see our migration guide here: https://mlflow.org/docs/2.12.2/model-registry.html#migrating-from-stages\n  latest = client.get_latest_versions(name, None if stage is None else [stage])\n"
     ]
    },
    {
     "output_type": "display_data",
     "data": {
      "application/vnd.jupyter.widget-view+json": {
       "model_id": "ca08bac873aa40f59081e3c7509d2ad5",
       "version_major": 2,
       "version_minor": 0
      },
      "text/plain": [
       "Downloading artifacts:   0%|          | 0/25 [00:00<?, ?it/s]"
      ]
     },
     "metadata": {},
     "output_type": "display_data"
    },
    {
     "output_type": "stream",
     "name": "stdout",
     "output_type": "stream",
     "text": [
      "2024/05/12 02:43:55 INFO mlflow.store.artifact.artifact_repo: The progress bar can be disabled by setting the environment variable MLFLOW_ENABLE_ARTIFACTS_PROGRESS_BAR to false\n2024/05/12 02:44:00 WARNING mlflow.utils.requirements_utils: Detected one or more mismatches between the model's dependencies and the current Python environment:\n - mlflow (current: 2.12.2, required: mlflow==2.11.3)\nTo fix the mismatches, call `mlflow.pyfunc.get_model_dependencies(model_uri)` to fetch the model's environment and install dependencies using the resulting environment file.\n2024/05/12 02:44:00 WARNING mlflow.pyfunc: Calling `spark_udf()` with `env_manager=\"local\"` does not recreate the same environment that was used during training, which may lead to errors or inaccurate predictions. We recommend specifying `env_manager=\"conda\"`, which automatically recreates the environment that was used to train the model and performs inference in the recreated environment.\n"
     ]
    },
    {
     "output_type": "display_data",
     "data": {
      "application/vnd.jupyter.widget-view+json": {
       "model_id": "63315dde65f94efaa038372706706bb1",
       "version_major": 2,
       "version_minor": 0
      },
      "text/plain": [
       "Downloading artifacts:   0%|          | 0/1 [00:00<?, ?it/s]"
      ]
     },
     "metadata": {},
     "output_type": "display_data"
    },
    {
     "output_type": "stream",
     "name": "stdout",
     "output_type": "stream",
     "text": [
      "2024/05/12 02:44:00 INFO mlflow.models.flavor_backend_registry: Selected backend for flavor 'python_function'\n"
     ]
    }
   ],
   "source": [
    "\n",
    "apply_model_udf = mlflow.pyfunc.spark_udf(spark, f\"models:/{MODEL_NAME}/production\")"
   ]
  },
  {
   "cell_type": "code",
   "execution_count": 0,
   "metadata": {
    "application/vnd.databricks.v1+cell": {
     "cellMetadata": {
      "byteLimit": 2048000,
      "rowLimit": 10000
     },
     "inputWidgets": {},
     "nuid": "ab79475f-4dbf-4644-9e35-ab5a8e5cbee4",
     "showTitle": false,
     "title": ""
    }
   },
   "outputs": [
    {
     "output_type": "stream",
     "name": "stdout",
     "output_type": "stream",
     "text": [
      "loaded\n"
     ]
    }
   ],
   "source": [
    "# wait for stream to finish setting up\n",
    "while True:\n",
    "    try:\n",
    "        DeltaTable.forPath(spark, SILVER_DELTA).optimize().executeCompaction()\n",
    "        print(\"loaded\")\n",
    "        break\n",
    "    except:\n",
    "        print(\"waiting to load\")\n",
    "        time.sleep(10)"
   ]
  },
  {
   "cell_type": "code",
   "execution_count": 0,
   "metadata": {
    "application/vnd.databricks.v1+cell": {
     "cellMetadata": {
      "byteLimit": 2048000,
      "rowLimit": 10000
     },
     "inputWidgets": {},
     "nuid": "da2528a9-5382-4f51-9ab2-3798ffe7f536",
     "showTitle": false,
     "title": ""
    }
   },
   "outputs": [],
   "source": [
    "gold_stream = (spark.readStream\n",
    "    .format(\"delta\")\n",
    "    .option(\"maxFilesPerTrigger\", 100)\n",
    "    .load(SILVER_DELTA)\n",
    "    .withColumn(\"prediction\", apply_model_udf(col(\"cleaned_text\")))\n",
    "    .withColumn(\"predicted_score\", col(\"prediction.score\"))  \n",
    "    .withColumn(\"predicted_sentiment\", col(\"prediction.label\"))\n",
    "    .withColumn(\"sentiment_id\", when(col(\"sentiment\") == \"positive\", 1).otherwise(0))\n",
    "    .withColumn(\"predicted_sentiment_id\", when(col(\"predicted_sentiment\") == \"POS\", 1).otherwise(0))\n",
    "    .select(\"timestamp\",\"mention\",\"cleaned_text\",\"sentiment\",\"predicted_score\",\"predicted_sentiment\",\"sentiment_id\",\"predicted_sentiment_id\")\n",
    "    .writeStream\n",
    "    .format(\"delta\")\n",
    "    .outputMode(\"append\")\n",
    "    .option(\"checkpointLocation\", GOLD_CHECKPOINT)\n",
    "    .queryName(\"gold_stream\")\n",
    "    .trigger(processingTime=\"10 seconds\")\n",
    "    .start(GOLD_DELTA)\n",
    ")"
   ]
  },
  {
   "cell_type": "markdown",
   "metadata": {
    "application/vnd.databricks.v1+cell": {
     "cellMetadata": {
      "byteLimit": 2048000,
      "rowLimit": 10000
     },
     "inputWidgets": {},
     "nuid": "0494d8b4-5a55-47fc-af12-47325f34a303",
     "showTitle": false,
     "title": ""
    }
   },
   "source": [
    "## 7.0 Capture the accuracy metrics from the gold table in MLflow\n",
    "Store the following in an MLflow experiment run:\n",
    "- Store the precision, recall, and F1-score as MLflow metrics\n",
    "- Store an image of the confusion matrix as an MLflow artifact\n",
    "- Store the mdoel name and the MLflow version that was used as an MLflow parameters\n",
    "- Store the version of the Delta Table (input-silver) as an MLflow parameter"
   ]
  },
  {
   "cell_type": "markdown",
   "metadata": {
    "application/vnd.databricks.v1+cell": {
     "cellMetadata": {
      "byteLimit": 2048000,
      "rowLimit": 10000
     },
     "inputWidgets": {},
     "nuid": "de3f615f-9901-4631-80ee-a675c68b5442",
     "showTitle": false,
     "title": ""
    }
   },
   "source": [
    "Note: Neutral sentimetns treated as negatives"
   ]
  },
  {
   "cell_type": "code",
   "execution_count": 0,
   "metadata": {
    "application/vnd.databricks.v1+cell": {
     "cellMetadata": {
      "byteLimit": 2048000,
      "rowLimit": 10000
     },
     "inputWidgets": {},
     "nuid": "24e47845-a282-415f-8e67-3b8979dfc2b0",
     "showTitle": false,
     "title": ""
    }
   },
   "outputs": [
    {
     "output_type": "stream",
     "name": "stdout",
     "output_type": "stream",
     "text": [
      "not loaded\nnot loaded\nnot loaded\nnot loaded\nnot loaded\nnot loaded\nnot loaded\nnot loaded\nnot loaded\nnot loaded\nnot loaded\nnot loaded\nnot loaded\nloaded\n"
     ]
    }
   ],
   "source": [
    "# Ensure that stream has started writing \n",
    "while True:\n",
    "    try:\n",
    "        DeltaTable.forPath(spark, GOLD_DELTA).optimize().executeCompaction()\n",
    "        print(\"loaded\")\n",
    "        break\n",
    "    except:\n",
    "        print(\"not loaded\")\n",
    "        time.sleep(10)"
   ]
  },
  {
   "cell_type": "code",
   "execution_count": 0,
   "metadata": {
    "application/vnd.databricks.v1+cell": {
     "cellMetadata": {
      "byteLimit": 2048000,
      "rowLimit": 10000
     },
     "inputWidgets": {},
     "nuid": "3bb174ad-67e4-4b0a-be36-ff20a760ee8b",
     "showTitle": false,
     "title": ""
    }
   },
   "outputs": [
    {
     "output_type": "display_data",
     "data": {
      "image/png": "[encoded data removed]"
     },
     "metadata": {
      "application/vnd.databricks.v1+output": {
       "addedWidgets": {},
       "arguments": {},
       "data": "data:image/png;base64,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\n",
       "datasetInfos": [],
       "metadata": {},
       "removedWidgets": [],
       "type": "image"
      }
     },
     "output_type": "display_data"
    }
   ],
   "source": [
    "time.sleep(30) # let some more data come in before demonstrating metrics\n",
    "\n",
    "gold_df = spark.read.format(\"delta\").load(GOLD_DELTA)\n",
    "\n",
    "# Extract predicted and actual labels\n",
    "y_true = gold_df.select('sentiment_id').rdd.map(lambda row: row.sentiment_id).collect()\n",
    "y_pred = gold_df.select('predicted_sentiment_id').rdd.map(lambda row: row.predicted_sentiment_id).collect()\n",
    "\n",
    "# Calculate confusion matrix\n",
    "cm = confusion_matrix(y_true, y_pred)\n",
    "\n",
    "# Calculate precision, recall, and F1-score\n",
    "tp = cm[1, 1]\n",
    "fp = cm[0, 1]\n",
    "fn = cm[1, 0]\n",
    "precision = tp / (tp + fp)\n",
    "recall = tp / (tp + fn)\n",
    "f1_score = 2 * (precision * recall) / (precision + recall)\n",
    "\n",
    "# Log metrics to MLflow\n",
    "with mlflow.start_run():\n",
    "\n",
    "    # Log precision, recall, and F1-score as metrics\n",
    "    mlflow.log_metric(\"precision\", precision)\n",
    "    mlflow.log_metric(\"recall\", recall)\n",
    "    mlflow.log_metric(\"f1_score\", f1_score)\n",
    "\n",
    "    # Log model name and MLflow version as parameters\n",
    "    mlflow.log_param(\"model_name\", MODEL_NAME)\n",
    "    mlflow.log_param(\"mlflow_version\", 1)\n",
    "\n",
    "    # Log Delta Table version as parameter\n",
    "    from delta.tables import DeltaTable\n",
    "    delta_table = DeltaTable.forPath(spark, GOLD_DELTA)\n",
    "    history_df = delta_table.history()\n",
    "    latest_version = history_df.select(\"version\").orderBy(\"version\", ascending=False).first()[0]\n",
    "    mlflow.log_param(\"delta_table_version\", latest_version)\n",
    "\n",
    "    sns.heatmap(cm, annot=True, cmap=\"Blues\", fmt='g', xticklabels=['Negative', 'Positive'], yticklabels=['Negative', 'Positive'])\n",
    "    plt.xlabel('Predicted label')\n",
    "    plt.ylabel('True label')\n",
    "    plt.savefig(\"confusion_matrix.png\")\n",
    "    mlflow.log_artifact(\"confusion_matrix.png\")"
   ]
  },
  {
   "cell_type": "markdown",
   "metadata": {
    "application/vnd.databricks.v1+cell": {
     "cellMetadata": {
      "byteLimit": 2048000,
      "rowLimit": 10000
     },
     "inputWidgets": {},
     "nuid": "81e0e2de-b872-4698-81cc-1669646c2183",
     "showTitle": false,
     "title": ""
    }
   },
   "source": [
    "## 8.0 Application Data Processing and Visualization\n",
    "- How many mentions are there in the gold data total?\n",
    "- Count the number of neutral, positive and negative tweets for each mention in new columns\n",
    "- Capture the total for each mention in a new column\n",
    "- Sort the mention count totals in descending order\n",
    "- Plot a bar chart of the top 20 mentions with positive sentiment (the people who are in favor)\n",
    "- Plot a bar chart of the top 20 mentions with negative sentiment (the people who are the vilians)\n",
    "\n",
    "You may want to use the \"Loop Application\" widget to control whether you repeateded display the latest plots while the data comes in from your streams before moving on to the next section and cleaning up your run.\n",
    "\n",
    "*note: A mention is a specific twitter user that has been \"mentioned\" in a tweet with an @user reference."
   ]
  },
  {
   "cell_type": "markdown",
   "metadata": {
    "application/vnd.databricks.v1+cell": {
     "cellMetadata": {},
     "inputWidgets": {},
     "nuid": "62e54081-c028-414f-912d-9aaf84446bde",
     "showTitle": false,
     "title": ""
    }
   },
   "source": [
    "This is a sample application data visualization for grading/testing"
   ]
  },
  {
   "cell_type": "code",
   "execution_count": 0,
   "metadata": {
    "application/vnd.databricks.v1+cell": {
     "cellMetadata": {},
     "inputWidgets": {},
     "nuid": "172d8092-7d9e-4921-a615-f0f8c416b089",
     "showTitle": false,
     "title": ""
    }
   },
   "outputs": [],
   "source": [
    "gold_df = spark.read.format(\"delta\").load(GOLD_DELTA)\n",
    "\n",
    "# Calculate the number of mentions in the Gold Data\n",
    "total_mentions = gold_df.select(\"mention\").distinct().count()\n",
    "\n",
    "# Count the number of neutral, positive, and negative tweets for each mention\n",
    "mention_counts = gold_df.groupBy(\"mention\") \\\n",
    "    .agg(\n",
    "        min(\"timestamp\").alias(\"min_timestamp\"),\n",
    "        max(\"timestamp\").alias(\"max_timestamp\"),\n",
    "        sum(when(col(\"sentiment_id\") == 0, 1).otherwise(0)).alias(\"negative\"),\n",
    "        sum(when(col(\"sentiment_id\") == 1, 1).otherwise(0)).alias(\"positive\"),\n",
    "        sum(when(col(\"sentiment_id\") == 2, 1).otherwise(0)).alias(\"neutral\")\n",
    "    )\n",
    "\n",
    "# Calculate the total for each mention\n",
    "mention_counts = mention_counts.withColumn(\"total\", col(\"negative\") + col(\"positive\") + col(\"neutral\"))\n",
    "\n",
    "# Sort the mention count totals in descending order\n",
    "sorted_mention_counts = mention_counts.orderBy(col(\"total\").desc())\n",
    "\n",
    "# Plot a bar chart of the top 20 mentions with positive sentiment\n",
    "top_20_positive_mentions = sorted_mention_counts.filter(col(\"positive\") > 0).limit(20).orderBy(col(\"positive\").desc()).toPandas()\n",
    "top_20_positive_mentions.plot(kind=\"bar\", x=\"mention\", y=\"positive\", title=\"Top 20 Mentions with Positive Sentiment\")\n",
    "plt.show()\n",
    "\n",
    "# Plot a bar chart of the top 20 mentions with negative sentiment\n",
    "top_20_negative_mentions = sorted_mention_counts.filter(col(\"negative\") > 0).limit(20).orderBy(col(\"negative\").desc()).toPandas()\n",
    "top_20_negative_mentions.plot(kind=\"bar\", x=\"mention\", y=\"negative\", title=\"Top 20 Mentions with Negative Sentiment\")\n",
    "plt.show()"
   ]
  },
  {
   "cell_type": "markdown",
   "metadata": {
    "application/vnd.databricks.v1+cell": {
     "cellMetadata": {},
     "inputWidgets": {},
     "nuid": "e5e1ea7a-30fb-42a1-8f93-7da660d0c695",
     "showTitle": false,
     "title": ""
    }
   },
   "source": [
    "This is the Application Data Processing and Visualization that updates over time, although you need to let the other code run first if doing \"run all\". If you run the cells one by one, you can activate immediately and watch dynamic updating."
   ]
  },
  {
   "cell_type": "code",
   "execution_count": 0,
   "metadata": {
    "application/vnd.databricks.v1+cell": {
     "cellMetadata": {
      "byteLimit": 2048000,
      "rowLimit": 10000
     },
     "inputWidgets": {},
     "nuid": "cbde0a02-d58b-4bdb-ba6a-58d79ebdc36c",
     "showTitle": false,
     "title": ""
    }
   },
   "outputs": [
    {
     "output_type": "display_data",
     "data": {
      "application/vnd.jupyter.widget-view+json": {
       "model_id": "1124d6fc65e64680a8f3a169a127b2ed",
       "version_major": 2,
       "version_minor": 0
      },
      "text/plain": [
       "VBox(children=(ToggleButton(value=False, description='Start Loop'), Output()))"
      ]
     },
     "metadata": {},
     "output_type": "display_data"
    }
   ],
   "source": [
    "# Define a function to create a random plot\n",
    "def create_plot():\n",
    "    gold_df = spark.read.format(\"delta\").load(GOLD_DELTA)\n",
    "\n",
    "    # Calculate the number of mentions in the Gold Data\n",
    "    total_mentions = gold_df.select(\"mention\").distinct().count()\n",
    "\n",
    "    # Count the number of neutral, positive, and negative tweets for each mention\n",
    "    mention_counts = gold_df.groupBy(\"mention\") \\\n",
    "        .agg(\n",
    "            min(\"timestamp\").alias(\"min_timestamp\"),\n",
    "            max(\"timestamp\").alias(\"max_timestamp\"),\n",
    "            sum(when(col(\"sentiment_id\") == 0, 1).otherwise(0)).alias(\"negative\"),\n",
    "            sum(when(col(\"sentiment_id\") == 1, 1).otherwise(0)).alias(\"positive\"),\n",
    "            sum(when(col(\"sentiment_id\") == 2, 1).otherwise(0)).alias(\"neutral\")\n",
    "        )\n",
    "\n",
    "    # Calculate the total for each mention\n",
    "    mention_counts = mention_counts.withColumn(\"total\", col(\"negative\") + col(\"positive\") + col(\"neutral\"))\n",
    "\n",
    "    # Sort the mention count totals in descending order\n",
    "    sorted_mention_counts = mention_counts.orderBy(col(\"total\").desc())\n",
    "\n",
    "    # Plot a bar chart of the top 20 mentions with positive sentiment\n",
    "    top_20_positive_mentions = sorted_mention_counts.filter(col(\"positive\") > 0).limit(20).orderBy(col(\"positive\").desc()).toPandas()\n",
    "    top_20_positive_mentions.plot(kind=\"bar\", x=\"mention\", y=\"positive\", title=\"Top 20 Mentions with Positive Sentiment\")\n",
    "    plt.show()\n",
    "\n",
    "    # Plot a bar chart of the top 20 mentions with negative sentiment\n",
    "    top_20_negative_mentions = sorted_mention_counts.filter(col(\"negative\") > 0).limit(20).orderBy(col(\"negative\").desc()).toPandas()\n",
    "    top_20_negative_mentions.plot(kind=\"bar\", x=\"mention\", y=\"negative\", title=\"Top 20 Mentions with Negative Sentiment\")\n",
    "    plt.show()\n",
    "\n",
    "# Define a function to update the plot\n",
    "def update_plot(change):\n",
    "    create_plot()\n",
    "\n",
    "# Create a loop application widget\n",
    "loop_button = widgets.ToggleButton(description='Start Loop', value=False)\n",
    "output = widgets.Output()\n",
    "\n",
    "def loop_event(change):\n",
    "    while loop_button.value:\n",
    "        with output:\n",
    "            output.clear_output(wait=True)\n",
    "            create_plot()\n",
    "        time.sleep(10)\n",
    "\n",
    "loop_button.observe(loop_event, 'value')\n",
    "\n",
    "# Display the loop application widget\n",
    "widgets.VBox([loop_button, output])\n"
   ]
  },
  {
   "cell_type": "markdown",
   "metadata": {
    "application/vnd.databricks.v1+cell": {
     "cellMetadata": {
      "byteLimit": 2048000,
      "rowLimit": 10000
     },
     "inputWidgets": {},
     "nuid": "5d5add3f-0c13-4d81-86d8-12cf3cfdd2c8",
     "showTitle": false,
     "title": ""
    }
   },
   "source": [
    "## 9.0 Clean up and completion of your pipeline\n",
    "- using the utilities what streams are running? If any.\n",
    "- Stop all active streams\n",
    "- print out the elapsed time of your notebook."
   ]
  },
  {
   "cell_type": "code",
   "execution_count": 0,
   "metadata": {
    "application/vnd.databricks.v1+cell": {
     "cellMetadata": {
      "byteLimit": 2048000,
      "rowLimit": 10000
     },
     "inputWidgets": {},
     "nuid": "0304e685-c26e-447d-b230-c37266f30003",
     "showTitle": false,
     "title": ""
    }
   },
   "outputs": [
    {
     "output_type": "stream",
     "name": "stdout",
     "output_type": "stream",
     "text": [
      "Active Streams:\ngold_stream\nbronze_stream\nsilver_stream\n"
     ]
    },
    {
     "output_type": "display_data",
     "data": {
      "text/html": [
       "<style scoped>\n",
       "  .ansiout {\n",
       "    display: block;\n",
       "    unicode-bidi: embed;\n",
       "    white-space: pre-wrap;\n",
       "    word-wrap: break-word;\n",
       "    word-break: break-all;\n",
       "    font-family: \"Menlo\", \"Monaco\", \"Consolas\", \"Ubuntu Mono\", \"Source Code Pro\", monospace;\n",
       "    font-size: 13px;\n",
       "    color: #555;\n",
       "    margin-left: 4px;\n",
       "    line-height: 19px;\n",
       "  }\n",
       "</style>"
      ]
     },
     "metadata": {
      "application/vnd.databricks.v1+output": {
       "arguments": {},
       "data": "",
       "errorSummary": "Cancelled",
       "errorTraceType": "html",
       "metadata": {},
       "type": "ipynbError"
      }
     },
     "output_type": "display_data"
    }
   ],
   "source": [
    "end_program_immediately = False\n",
    "\n",
    "# Printing active streams\n",
    "print(\"Active Streams:\")\n",
    "if len(spark.streams.active) > 0:\n",
    "    for stream in spark.streams.active:\n",
    "        print(stream.name)\n",
    "else:\n",
    "    print(\"None\")\n",
    "\n",
    "# Get the notebooks ending time note START_TIME was established in the include file when the notebook started.\n",
    "END_TIME = time.time()\n",
    "print(f\"Total time to run code to get streaming up and running: {END_TIME - START_TIME:.2f} seconds\")\n",
    "\n",
    "# Ending the application before streaming is finished\n",
    "if not end_program_immediately:\n",
    "    time.sleep(3600)\n",
    "    gold_stream.awaitTermination() # in this case just wait or use widget to end program\n",
    "\n",
    "stop_all_streams()\n",
    "print(\"All streams stopped\")\n",
    "clear_previous_run()\n",
    "print(\"Previous Run cleared\")"
   ]
  },
  {
   "cell_type": "code",
   "execution_count": 0,
   "metadata": {
    "application/vnd.databricks.v1+cell": {
     "cellMetadata": {
      "byteLimit": 2048000,
      "rowLimit": 10000
     },
     "inputWidgets": {},
     "nuid": "ea759fc8-1d78-4d6d-b571-e2e256448b76",
     "showTitle": false,
     "title": ""
    }
   },
   "outputs": [
    {
     "output_type": "display_data",
     "data": {
      "text/html": [
       "<style scoped>\n",
       "  .ansiout {\n",
       "    display: block;\n",
       "    unicode-bidi: embed;\n",
       "    white-space: pre-wrap;\n",
       "    word-wrap: break-word;\n",
       "    word-break: break-all;\n",
       "    font-family: \"Menlo\", \"Monaco\", \"Consolas\", \"Ubuntu Mono\", \"Source Code Pro\", monospace;\n",
       "    font-size: 13px;\n",
       "    color: #555;\n",
       "    margin-left: 4px;\n",
       "    line-height: 19px;\n",
       "  }\n",
       "</style>"
      ]
     },
     "metadata": {
      "application/vnd.databricks.v1+output": {
       "arguments": {},
       "data": "",
       "errorSummary": "Command skipped",
       "errorTraceType": "html",
       "metadata": {},
       "type": "ipynbError"
      }
     },
     "output_type": "display_data"
    }
   ],
   "source": [
    "# Get the notebooks ending time note START_TIME was established in the include file when the notebook started.\n",
    "END_TIME = time.time()\n",
    "print(f\"Total time to run: {END_TIME - START_TIME:.2f} seconds\")"
   ]
  },
  {
   "cell_type": "markdown",
   "metadata": {
    "application/vnd.databricks.v1+cell": {
     "cellMetadata": {
      "byteLimit": 2048000,
      "rowLimit": 10000
     },
     "inputWidgets": {},
     "nuid": "b88fc0e5-f50c-4ed1-9480-16a4c8a44b30",
     "showTitle": false,
     "title": ""
    }
   },
   "source": [
    "## 10.0 How Optimized is your Spark Application (Grad Students Only)\n",
    "Graduate students (registered for the DSCC-402 section of the course) are required to do this section.  This is a written analysis using the Spark UI (link to screen shots) that support your analysis of your pipelines execution and what is driving its performance.\n",
    "Recall that Spark Optimization has 5 significant dimensions of considertation:\n",
    "- Spill: write to executor disk due to lack of memory\n",
    "- Skew: imbalance in partition size\n",
    "- Shuffle: network io moving data between executors (wide transforms)\n",
    "- Storage: inefficiency due to disk storage format (small files, location)\n",
    "- Serialization: distribution of code segments across the cluster\n",
    "\n",
    "Comment on each of the dimentions of performance and how your impelementation is or is not being affected.  Use specific information in the Spark UI to support your description.  \n",
    "\n",
    "Note: you can take sreenshots of the Spark UI from your project runs in databricks and then link to those pictures by storing them as a publicly accessible file on your cloud drive (google, one drive, etc.)\n",
    "\n",
    "References:\n",
    "- [Spark UI Reference Reference](https://spark.apache.org/docs/latest/web-ui.html#web-ui)\n",
    "- [Spark UI Simulator](https://www.databricks.training/spark-ui-simulator/index.html)"
   ]
  },
  {
   "cell_type": "markdown",
   "metadata": {
    "application/vnd.databricks.v1+cell": {
     "cellMetadata": {
      "byteLimit": 2048000,
      "rowLimit": 10000
     },
     "inputWidgets": {},
     "nuid": "a0a5707d-a5ca-4e87-9e74-3b13d00337b0",
     "showTitle": false,
     "title": ""
    }
   },
   "source": [
    "### ENTER YOUR MARKDOWN HERE"
   ]
  }
 ],
 "metadata": {
  "application/vnd.databricks.v1+notebook": {
   "dashboards": [],
   "language": "python",
   "notebookMetadata": {
    "mostRecentlyExecutedCommandWithImplicitDF": {
     "commandId": -1,
     "dataframes": [
      "_sqldf"
     ]
    },
    "pythonIndentUnit": 4,
    "widgetLayout": [
     {
      "breakBefore": false,
      "name": "clear_previous_run",
      "width": 174
     },
     {
      "breakBefore": false,
      "name": "optimize_tables",
      "width": 174
     },
     {
      "breakBefore": false,
      "name": "stop_streams",
      "width": 174
     }
    ]
   },
   "notebookName": "Starter Streaming Tweet Sentiment - Spring 2024 Final Project",
   "widgets": {
    "clear_previous_run": {
     "currentValue": "No",
     "nuid": "11b43403-c70f-41ef-ab0e-41172583baaa",
     "typedWidgetInfo": null,
     "widgetInfo": {
      "widgetType": "dropdown",
      "defaultValue": "No",
      "label": null,
      "name": "clear_previous_run",
      "options": {
       "widgetType": "dropdown",
       "autoCreated": null,
       "choices": [
        "No",
        "Yes"
       ]
      }
     }
    },
    "optimize_tables": {
     "currentValue": "No",
     "nuid": "d27f2950-3146-4010-8bc6-58c47a93e7a9",
     "typedWidgetInfo": null,
     "widgetInfo": {
      "widgetType": "dropdown",
      "defaultValue": "No",
      "label": null,
      "name": "optimize_tables",
      "options": {
       "widgetType": "dropdown",
       "autoCreated": null,
       "choices": [
        "No",
        "Yes"
       ]
      }
     }
    },
    "stop_streams": {
     "currentValue": "No",
     "nuid": "d70a2190-266e-473c-86a7-84f7bf56b386",
     "typedWidgetInfo": null,
     "widgetInfo": {
      "widgetType": "dropdown",
      "defaultValue": "No",
      "label": null,
      "name": "stop_streams",
      "options": {
       "widgetType": "dropdown",
       "autoCreated": null,
       "choices": [
        "No",
        "Yes"
       ]
      }
     }
    }
   }
  }
 },
 "nbformat": 4,
 "nbformat_minor": 0
}
